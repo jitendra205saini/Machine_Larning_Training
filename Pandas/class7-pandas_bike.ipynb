{
 "cells": [
  {
   "cell_type": "markdown",
   "metadata": {},
   "source": [
    "PANDAS-1"
   ]
  },
  {
   "cell_type": "code",
   "execution_count": 1,
   "metadata": {},
   "outputs": [],
   "source": [
    "import pandas as pd"
   ]
  },
  {
   "cell_type": "code",
   "execution_count": 2,
   "metadata": {},
   "outputs": [
    {
     "data": {
      "application/vnd.microsoft.datawrangler.viewer.v0+json": {
       "columns": [
        {
         "name": "index",
         "rawType": "int64",
         "type": "integer"
        },
        {
         "name": "bike_name",
         "rawType": "object",
         "type": "string"
        },
        {
         "name": "price",
         "rawType": "float64",
         "type": "float"
        },
        {
         "name": "city",
         "rawType": "object",
         "type": "string"
        },
        {
         "name": "kms_driven",
         "rawType": "float64",
         "type": "float"
        },
        {
         "name": "owner",
         "rawType": "object",
         "type": "string"
        },
        {
         "name": "age",
         "rawType": "float64",
         "type": "float"
        },
        {
         "name": "power",
         "rawType": "float64",
         "type": "float"
        },
        {
         "name": "brand",
         "rawType": "object",
         "type": "string"
        }
       ],
       "conversionMethod": "pd.DataFrame",
       "ref": "40b9acb9-dbdb-41aa-90cf-aef39ad7f198",
       "rows": [
        [
         "0",
         "TVS Star City Plus Dual Tone 110cc",
         "35000.0",
         "Ahmedabad",
         "17654.0",
         "First Owner",
         "3.0",
         "110.0",
         "TVS"
        ],
        [
         "1",
         "Royal Enfield Classic 350cc",
         "119900.0",
         "Delhi",
         "11000.0",
         "First Owner",
         "4.0",
         "350.0",
         "Royal Enfield"
        ],
        [
         "2",
         "Triumph Daytona 675R",
         "600000.0",
         "Delhi",
         "110.0",
         "First Owner",
         "8.0",
         "675.0",
         "Triumph"
        ],
        [
         "3",
         "TVS Apache RTR 180cc",
         "65000.0",
         "Bangalore",
         "16329.0",
         "First Owner",
         "4.0",
         "180.0",
         "TVS"
        ],
        [
         "4",
         "Yamaha FZ S V 2.0 150cc-Ltd. Edition",
         "80000.0",
         "Bangalore",
         "10000.0",
         "First Owner",
         "3.0",
         "150.0",
         "Yamaha"
        ],
        [
         "5",
         "Yamaha FZs 150cc",
         "53499.0",
         "Delhi",
         "25000.0",
         "First Owner",
         "6.0",
         "150.0",
         "Yamaha"
        ],
        [
         "6",
         "Honda CB Hornet 160R  ABS DLX",
         "85000.0",
         "Delhi",
         "8200.0",
         "First Owner",
         "3.0",
         "160.0",
         "Honda"
        ],
        [
         "7",
         "Hero Splendor Plus Self Alloy 100cc",
         "45000.0",
         "Delhi",
         "12645.0",
         "First Owner",
         "3.0",
         "100.0",
         "Hero"
        ],
        [
         "8",
         "Royal Enfield Thunderbird X 350cc",
         "145000.0",
         "Bangalore",
         "9190.0",
         "First Owner",
         "3.0",
         "350.0",
         "Royal Enfield"
        ],
        [
         "9",
         "Royal Enfield Classic Desert Storm 500cc",
         "88000.0",
         "Delhi",
         "19000.0",
         "Second Owner",
         "7.0",
         "500.0",
         "Royal Enfield"
        ],
        [
         "10",
         "Yamaha YZF-R15 2.0 150cc",
         "72000.0",
         "Bangalore",
         "20000.0",
         "First Owner",
         "7.0",
         "150.0",
         "Yamaha"
        ],
        [
         "11",
         "Yamaha FZ25 250cc",
         "95000.0",
         "Bangalore",
         "9665.0",
         "First Owner",
         "4.0",
         "250.0",
         "Yamaha"
        ],
        [
         "12",
         "Bajaj Pulsar NS200",
         "78000.0",
         "Bangalore",
         "9900.0",
         "First Owner",
         "4.0",
         "200.0",
         "Bajaj"
        ],
        [
         "13",
         "Bajaj Discover 100M",
         "29499.0",
         "Delhi",
         "20000.0",
         "First Owner",
         "8.0",
         "100.0",
         "Bajaj"
        ],
        [
         "14",
         "Bajaj Discover 125M",
         "29900.0",
         "Delhi",
         "20000.0",
         "First Owner",
         "7.0",
         "125.0",
         "Bajaj"
        ],
        [
         "15",
         "Bajaj Pulsar NS200 ABS",
         "90000.0",
         "Bangalore",
         "11574.0",
         "First Owner",
         "3.0",
         "200.0",
         "Bajaj"
        ],
        [
         "16",
         "Bajaj Pulsar RS200 ABS",
         "120000.0",
         "Bangalore",
         "23000.0",
         "First Owner",
         "3.0",
         "200.0",
         "Bajaj"
        ],
        [
         "17",
         "Suzuki Gixxer SF 150cc",
         "48000.0",
         "Mumbai",
         "24725.0",
         "First Owner",
         "5.0",
         "150.0",
         "Suzuki"
        ],
        [
         "18",
         "Benelli 302R 300CC",
         "240000.0",
         "Mumbai",
         "15025.0",
         "Second Owner",
         "3.0",
         "302.0",
         "Benelli"
        ],
        [
         "19",
         "Bajaj Discover 125M",
         "29900.0",
         "Delhi",
         "20000.0",
         "First Owner",
         "7.0",
         "125.0",
         "Bajaj"
        ],
        [
         "20",
         "Bajaj Pulsar RS200 ABS",
         "120000.0",
         "Bangalore",
         "23000.0",
         "First Owner",
         "3.0",
         "200.0",
         "Bajaj"
        ],
        [
         "21",
         "Suzuki Gixxer SF 150cc",
         "48000.0",
         "Mumbai",
         "24725.0",
         "First Owner",
         "5.0",
         "150.0",
         "Suzuki"
        ],
        [
         "22",
         "Hero Splendor iSmart Plus IBS 110cc",
         "46500.0",
         "Delhi",
         "3500.0",
         "First Owner",
         "2.0",
         "110.0",
         "Hero"
        ],
        [
         "23",
         "Royal Enfield Classic Chrome 500cc",
         "121700.0",
         "Kalyan",
         "24520.0",
         "First Owner",
         "5.0",
         "500.0",
         "Royal Enfield"
        ],
        [
         "24",
         "Yamaha FZ V 2.0 150cc",
         "45000.0",
         "Delhi",
         "23000.0",
         "First Owner",
         "6.0",
         "150.0",
         "Yamaha"
        ],
        [
         "25",
         "Bajaj Pulsar NS200",
         "78000.0",
         "Bangalore",
         "9900.0",
         "First Owner",
         "4.0",
         "200.0",
         "Bajaj"
        ],
        [
         "26",
         "Hero Super Splendor 125cc",
         "20000.0",
         "Ahmedabad",
         "29305.0",
         "First Owner",
         "16.0",
         "125.0",
         "Hero"
        ],
        [
         "27",
         "Honda CBF Stunner 125cc",
         "20800.0",
         "Faridabad",
         "30500.0",
         "Second Owner",
         "7.0",
         "125.0",
         "Honda"
        ],
        [
         "28",
         "Bajaj Pulsar 150cc",
         "50000.0",
         "Bangalore",
         "19000.0",
         "First Owner",
         "8.0",
         "150.0",
         "Bajaj"
        ],
        [
         "29",
         "Honda X-Blade 160CC ABS",
         "81200.0",
         "Mettur",
         "9100.0",
         "First Owner",
         "2.0",
         "160.0",
         "Honda"
        ],
        [
         "30",
         "Bajaj Pulsar NS200",
         "88000.0",
         "Hyderabad",
         "21914.0",
         "First Owner",
         "3.0",
         "200.0",
         "Bajaj"
        ],
        [
         "31",
         "Yamaha YZF-R15 2.0 150cc",
         "80000.0",
         "Kaithal",
         "20000.0",
         "Second Owner",
         "4.0",
         "150.0",
         "Yamaha"
        ],
        [
         "32",
         "Bajaj Avenger 220cc",
         "40900.0",
         "Gurgaon",
         "15000.0",
         "First Owner",
         "6.0",
         "220.0",
         "Bajaj"
        ],
        [
         "33",
         "KTM RC 390cc",
         "180000.0",
         "Pune",
         "17700.0",
         "First Owner",
         "4.0",
         "390.0",
         "KTM"
        ],
        [
         "34",
         "Honda CB Unicorn 150cc",
         "40000.0",
         "Noida",
         "30000.0",
         "First Owner",
         "8.0",
         "150.0",
         "Honda"
        ],
        [
         "35",
         "KTM Duke 200cc",
         "70000.0",
         "Nashik",
         "100000.0",
         "Second Owner",
         "8.0",
         "200.0",
         "KTM"
        ],
        [
         "36",
         "Royal Enfield Classic 350cc",
         "98800.0",
         "Kochi",
         "39000.0",
         "First Owner",
         "5.0",
         "350.0",
         "Royal Enfield"
        ],
        [
         "37",
         "Honda CBR 150R 150cc",
         "65000.0",
         "Allahabad",
         "43000.0",
         "First Owner",
         "6.0",
         "150.0",
         "Honda"
        ],
        [
         "38",
         "Royal Enfield Thunderbird X 500cc",
         "190500.0",
         "Samastipur",
         "4550.0",
         "First Owner",
         "2.0",
         "500.0",
         "Royal Enfield"
        ],
        [
         "39",
         "KTM RC 200cc ABS",
         "179000.0",
         "Bangalore",
         "3400.0",
         "First Owner",
         "2.0",
         "200.0",
         "KTM"
        ],
        [
         "40",
         "Royal Enfield Thunderbird 350cc",
         "70000.0",
         "Nadiad",
         "45000.0",
         "First Owner",
         "8.0",
         "350.0",
         "Royal Enfield"
        ],
        [
         "41",
         "Bajaj Avenger 220cc",
         "45000.0",
         "Hyderabad",
         "36100.0",
         "First Owner",
         "6.0",
         "220.0",
         "Bajaj"
        ],
        [
         "42",
         "Royal Enfield Bullet Electra 350cc",
         "78000.0",
         "Lucknow",
         "8500.0",
         "First Owner",
         "13.0",
         "350.0",
         "Royal Enfield"
        ],
        [
         "43",
         "Bajaj Avenger Street 220 ABS",
         "110000.0",
         "Bangalore",
         "2550.0",
         "First Owner",
         "2.0",
         "220.0",
         "Bajaj"
        ],
        [
         "44",
         "Royal Enfield Classic 350cc",
         "85000.0",
         "Delhi",
         "18000.0",
         "First Owner",
         "6.0",
         "350.0",
         "Royal Enfield"
        ],
        [
         "45",
         "Bajaj Pulsar NS200",
         "38000.0",
         "Delhi",
         "35000.0",
         "First Owner",
         "9.0",
         "200.0",
         "Bajaj"
        ],
        [
         "46",
         "Royal Enfield Thunderbird 350cc",
         "55346.0",
         "Noida",
         "38000.0",
         "First Owner",
         "10.0",
         "350.0",
         "Royal Enfield"
        ],
        [
         "47",
         "Mahindra Centuro NXT 110cc",
         "28000.0",
         "Jaipur",
         "45000.0",
         "First Owner",
         "2.0",
         "110.0",
         "Mahindra"
        ],
        [
         "48",
         "Hero Hunk 150cc",
         "37000.0",
         "Mumbai",
         "10800.0",
         "First Owner",
         "8.0",
         "150.0",
         "Hero"
        ],
        [
         "49",
         "Suzuki Gixxer SF Fi 150cc SP ABS",
         "97000.0",
         "Delhi",
         "4400.0",
         "First Owner",
         "3.0",
         "150.0",
         "Suzuki"
        ]
       ],
       "shape": {
        "columns": 8,
        "rows": 32648
       }
      },
      "text/html": [
       "<div>\n",
       "<style scoped>\n",
       "    .dataframe tbody tr th:only-of-type {\n",
       "        vertical-align: middle;\n",
       "    }\n",
       "\n",
       "    .dataframe tbody tr th {\n",
       "        vertical-align: top;\n",
       "    }\n",
       "\n",
       "    .dataframe thead th {\n",
       "        text-align: right;\n",
       "    }\n",
       "</style>\n",
       "<table border=\"1\" class=\"dataframe\">\n",
       "  <thead>\n",
       "    <tr style=\"text-align: right;\">\n",
       "      <th></th>\n",
       "      <th>bike_name</th>\n",
       "      <th>price</th>\n",
       "      <th>city</th>\n",
       "      <th>kms_driven</th>\n",
       "      <th>owner</th>\n",
       "      <th>age</th>\n",
       "      <th>power</th>\n",
       "      <th>brand</th>\n",
       "    </tr>\n",
       "  </thead>\n",
       "  <tbody>\n",
       "    <tr>\n",
       "      <th>0</th>\n",
       "      <td>TVS Star City Plus Dual Tone 110cc</td>\n",
       "      <td>35000.0</td>\n",
       "      <td>Ahmedabad</td>\n",
       "      <td>17654.0</td>\n",
       "      <td>First Owner</td>\n",
       "      <td>3.0</td>\n",
       "      <td>110.0</td>\n",
       "      <td>TVS</td>\n",
       "    </tr>\n",
       "    <tr>\n",
       "      <th>1</th>\n",
       "      <td>Royal Enfield Classic 350cc</td>\n",
       "      <td>119900.0</td>\n",
       "      <td>Delhi</td>\n",
       "      <td>11000.0</td>\n",
       "      <td>First Owner</td>\n",
       "      <td>4.0</td>\n",
       "      <td>350.0</td>\n",
       "      <td>Royal Enfield</td>\n",
       "    </tr>\n",
       "    <tr>\n",
       "      <th>2</th>\n",
       "      <td>Triumph Daytona 675R</td>\n",
       "      <td>600000.0</td>\n",
       "      <td>Delhi</td>\n",
       "      <td>110.0</td>\n",
       "      <td>First Owner</td>\n",
       "      <td>8.0</td>\n",
       "      <td>675.0</td>\n",
       "      <td>Triumph</td>\n",
       "    </tr>\n",
       "    <tr>\n",
       "      <th>3</th>\n",
       "      <td>TVS Apache RTR 180cc</td>\n",
       "      <td>65000.0</td>\n",
       "      <td>Bangalore</td>\n",
       "      <td>16329.0</td>\n",
       "      <td>First Owner</td>\n",
       "      <td>4.0</td>\n",
       "      <td>180.0</td>\n",
       "      <td>TVS</td>\n",
       "    </tr>\n",
       "    <tr>\n",
       "      <th>4</th>\n",
       "      <td>Yamaha FZ S V 2.0 150cc-Ltd. Edition</td>\n",
       "      <td>80000.0</td>\n",
       "      <td>Bangalore</td>\n",
       "      <td>10000.0</td>\n",
       "      <td>First Owner</td>\n",
       "      <td>3.0</td>\n",
       "      <td>150.0</td>\n",
       "      <td>Yamaha</td>\n",
       "    </tr>\n",
       "    <tr>\n",
       "      <th>...</th>\n",
       "      <td>...</td>\n",
       "      <td>...</td>\n",
       "      <td>...</td>\n",
       "      <td>...</td>\n",
       "      <td>...</td>\n",
       "      <td>...</td>\n",
       "      <td>...</td>\n",
       "      <td>...</td>\n",
       "    </tr>\n",
       "    <tr>\n",
       "      <th>32643</th>\n",
       "      <td>Hero Passion Pro 100cc</td>\n",
       "      <td>39000.0</td>\n",
       "      <td>Delhi</td>\n",
       "      <td>22000.0</td>\n",
       "      <td>First Owner</td>\n",
       "      <td>4.0</td>\n",
       "      <td>100.0</td>\n",
       "      <td>Hero</td>\n",
       "    </tr>\n",
       "    <tr>\n",
       "      <th>32644</th>\n",
       "      <td>TVS Apache RTR 180cc</td>\n",
       "      <td>30000.0</td>\n",
       "      <td>Karnal</td>\n",
       "      <td>6639.0</td>\n",
       "      <td>First Owner</td>\n",
       "      <td>9.0</td>\n",
       "      <td>180.0</td>\n",
       "      <td>TVS</td>\n",
       "    </tr>\n",
       "    <tr>\n",
       "      <th>32645</th>\n",
       "      <td>Bajaj Avenger Street 220</td>\n",
       "      <td>60000.0</td>\n",
       "      <td>Delhi</td>\n",
       "      <td>20373.0</td>\n",
       "      <td>First Owner</td>\n",
       "      <td>6.0</td>\n",
       "      <td>220.0</td>\n",
       "      <td>Bajaj</td>\n",
       "    </tr>\n",
       "    <tr>\n",
       "      <th>32646</th>\n",
       "      <td>Hero Super Splendor 125cc</td>\n",
       "      <td>15600.0</td>\n",
       "      <td>Jaipur</td>\n",
       "      <td>84186.0</td>\n",
       "      <td>First Owner</td>\n",
       "      <td>16.0</td>\n",
       "      <td>125.0</td>\n",
       "      <td>Hero</td>\n",
       "    </tr>\n",
       "    <tr>\n",
       "      <th>32647</th>\n",
       "      <td>Bajaj Pulsar 150cc</td>\n",
       "      <td>22000.0</td>\n",
       "      <td>Pune</td>\n",
       "      <td>60857.0</td>\n",
       "      <td>First Owner</td>\n",
       "      <td>13.0</td>\n",
       "      <td>150.0</td>\n",
       "      <td>Bajaj</td>\n",
       "    </tr>\n",
       "  </tbody>\n",
       "</table>\n",
       "<p>32648 rows × 8 columns</p>\n",
       "</div>"
      ],
      "text/plain": [
       "                                  bike_name     price       city  kms_driven  \\\n",
       "0        TVS Star City Plus Dual Tone 110cc   35000.0  Ahmedabad     17654.0   \n",
       "1               Royal Enfield Classic 350cc  119900.0      Delhi     11000.0   \n",
       "2                      Triumph Daytona 675R  600000.0      Delhi       110.0   \n",
       "3                      TVS Apache RTR 180cc   65000.0  Bangalore     16329.0   \n",
       "4      Yamaha FZ S V 2.0 150cc-Ltd. Edition   80000.0  Bangalore     10000.0   \n",
       "...                                     ...       ...        ...         ...   \n",
       "32643                Hero Passion Pro 100cc   39000.0      Delhi     22000.0   \n",
       "32644                  TVS Apache RTR 180cc   30000.0     Karnal      6639.0   \n",
       "32645              Bajaj Avenger Street 220   60000.0      Delhi     20373.0   \n",
       "32646             Hero Super Splendor 125cc   15600.0     Jaipur     84186.0   \n",
       "32647                    Bajaj Pulsar 150cc   22000.0       Pune     60857.0   \n",
       "\n",
       "             owner   age  power          brand  \n",
       "0      First Owner   3.0  110.0            TVS  \n",
       "1      First Owner   4.0  350.0  Royal Enfield  \n",
       "2      First Owner   8.0  675.0        Triumph  \n",
       "3      First Owner   4.0  180.0            TVS  \n",
       "4      First Owner   3.0  150.0         Yamaha  \n",
       "...            ...   ...    ...            ...  \n",
       "32643  First Owner   4.0  100.0           Hero  \n",
       "32644  First Owner   9.0  180.0            TVS  \n",
       "32645  First Owner   6.0  220.0          Bajaj  \n",
       "32646  First Owner  16.0  125.0           Hero  \n",
       "32647  First Owner  13.0  150.0          Bajaj  \n",
       "\n",
       "[32648 rows x 8 columns]"
      ]
     },
     "execution_count": 2,
     "metadata": {},
     "output_type": "execute_result"
    }
   ],
   "source": [
    "#Reading a CSV file using pandas.\n",
    "myFile = pd.read_csv(r\"D:\\data_science\\pandas\\Used_Bikes.csv\")\n",
    "myFile"
   ]
  },
  {
   "cell_type": "code",
   "execution_count": 3,
   "metadata": {},
   "outputs": [
    {
     "data": {
      "application/vnd.microsoft.datawrangler.viewer.v0+json": {
       "columns": [
        {
         "name": "index",
         "rawType": "int64",
         "type": "integer"
        },
        {
         "name": "bike_name",
         "rawType": "object",
         "type": "string"
        },
        {
         "name": "price",
         "rawType": "float64",
         "type": "float"
        },
        {
         "name": "city",
         "rawType": "object",
         "type": "string"
        },
        {
         "name": "kms_driven",
         "rawType": "float64",
         "type": "float"
        },
        {
         "name": "owner",
         "rawType": "object",
         "type": "string"
        },
        {
         "name": "age",
         "rawType": "float64",
         "type": "float"
        },
        {
         "name": "power",
         "rawType": "float64",
         "type": "float"
        },
        {
         "name": "brand",
         "rawType": "object",
         "type": "string"
        }
       ],
       "conversionMethod": "pd.DataFrame",
       "ref": "b5f5835d-25de-465f-acff-e99278cb7fa7",
       "rows": [
        [
         "0",
         "TVS Star City Plus Dual Tone 110cc",
         "35000.0",
         "Ahmedabad",
         "17654.0",
         "First Owner",
         "3.0",
         "110.0",
         "TVS"
        ],
        [
         "1",
         "Royal Enfield Classic 350cc",
         "119900.0",
         "Delhi",
         "11000.0",
         "First Owner",
         "4.0",
         "350.0",
         "Royal Enfield"
        ],
        [
         "2",
         "Triumph Daytona 675R",
         "600000.0",
         "Delhi",
         "110.0",
         "First Owner",
         "8.0",
         "675.0",
         "Triumph"
        ]
       ],
       "shape": {
        "columns": 8,
        "rows": 3
       }
      },
      "text/html": [
       "<div>\n",
       "<style scoped>\n",
       "    .dataframe tbody tr th:only-of-type {\n",
       "        vertical-align: middle;\n",
       "    }\n",
       "\n",
       "    .dataframe tbody tr th {\n",
       "        vertical-align: top;\n",
       "    }\n",
       "\n",
       "    .dataframe thead th {\n",
       "        text-align: right;\n",
       "    }\n",
       "</style>\n",
       "<table border=\"1\" class=\"dataframe\">\n",
       "  <thead>\n",
       "    <tr style=\"text-align: right;\">\n",
       "      <th></th>\n",
       "      <th>bike_name</th>\n",
       "      <th>price</th>\n",
       "      <th>city</th>\n",
       "      <th>kms_driven</th>\n",
       "      <th>owner</th>\n",
       "      <th>age</th>\n",
       "      <th>power</th>\n",
       "      <th>brand</th>\n",
       "    </tr>\n",
       "  </thead>\n",
       "  <tbody>\n",
       "    <tr>\n",
       "      <th>0</th>\n",
       "      <td>TVS Star City Plus Dual Tone 110cc</td>\n",
       "      <td>35000.0</td>\n",
       "      <td>Ahmedabad</td>\n",
       "      <td>17654.0</td>\n",
       "      <td>First Owner</td>\n",
       "      <td>3.0</td>\n",
       "      <td>110.0</td>\n",
       "      <td>TVS</td>\n",
       "    </tr>\n",
       "    <tr>\n",
       "      <th>1</th>\n",
       "      <td>Royal Enfield Classic 350cc</td>\n",
       "      <td>119900.0</td>\n",
       "      <td>Delhi</td>\n",
       "      <td>11000.0</td>\n",
       "      <td>First Owner</td>\n",
       "      <td>4.0</td>\n",
       "      <td>350.0</td>\n",
       "      <td>Royal Enfield</td>\n",
       "    </tr>\n",
       "    <tr>\n",
       "      <th>2</th>\n",
       "      <td>Triumph Daytona 675R</td>\n",
       "      <td>600000.0</td>\n",
       "      <td>Delhi</td>\n",
       "      <td>110.0</td>\n",
       "      <td>First Owner</td>\n",
       "      <td>8.0</td>\n",
       "      <td>675.0</td>\n",
       "      <td>Triumph</td>\n",
       "    </tr>\n",
       "  </tbody>\n",
       "</table>\n",
       "</div>"
      ],
      "text/plain": [
       "                            bike_name     price       city  kms_driven  \\\n",
       "0  TVS Star City Plus Dual Tone 110cc   35000.0  Ahmedabad     17654.0   \n",
       "1         Royal Enfield Classic 350cc  119900.0      Delhi     11000.0   \n",
       "2                Triumph Daytona 675R  600000.0      Delhi       110.0   \n",
       "\n",
       "         owner  age  power          brand  \n",
       "0  First Owner  3.0  110.0            TVS  \n",
       "1  First Owner  4.0  350.0  Royal Enfield  \n",
       "2  First Owner  8.0  675.0        Triumph  "
      ]
     },
     "execution_count": 3,
     "metadata": {},
     "output_type": "execute_result"
    }
   ],
   "source": [
    "\n",
    "#iska use surat ki row ko print karbane ke liye karte hai\n",
    "myFile.head(3)"
   ]
  },
  {
   "cell_type": "code",
   "execution_count": 4,
   "metadata": {},
   "outputs": [
    {
     "data": {
      "application/vnd.microsoft.datawrangler.viewer.v0+json": {
       "columns": [
        {
         "name": "index",
         "rawType": "int64",
         "type": "integer"
        },
        {
         "name": "bike_name",
         "rawType": "object",
         "type": "string"
        },
        {
         "name": "price",
         "rawType": "float64",
         "type": "float"
        },
        {
         "name": "city",
         "rawType": "object",
         "type": "string"
        },
        {
         "name": "kms_driven",
         "rawType": "float64",
         "type": "float"
        },
        {
         "name": "owner",
         "rawType": "object",
         "type": "string"
        },
        {
         "name": "age",
         "rawType": "float64",
         "type": "float"
        },
        {
         "name": "power",
         "rawType": "float64",
         "type": "float"
        },
        {
         "name": "brand",
         "rawType": "object",
         "type": "string"
        }
       ],
       "conversionMethod": "pd.DataFrame",
       "ref": "4146fba0-3d4d-41a2-8ec1-d5fe9ab3ef58",
       "rows": [
        [
         "0",
         "TVS Star City Plus Dual Tone 110cc",
         "35000.0",
         "Ahmedabad",
         "17654.0",
         "First Owner",
         "3.0",
         "110.0",
         "TVS"
        ],
        [
         "1",
         "Royal Enfield Classic 350cc",
         "119900.0",
         "Delhi",
         "11000.0",
         "First Owner",
         "4.0",
         "350.0",
         "Royal Enfield"
        ],
        [
         "2",
         "Triumph Daytona 675R",
         "600000.0",
         "Delhi",
         "110.0",
         "First Owner",
         "8.0",
         "675.0",
         "Triumph"
        ]
       ],
       "shape": {
        "columns": 8,
        "rows": 3
       }
      },
      "text/html": [
       "<div>\n",
       "<style scoped>\n",
       "    .dataframe tbody tr th:only-of-type {\n",
       "        vertical-align: middle;\n",
       "    }\n",
       "\n",
       "    .dataframe tbody tr th {\n",
       "        vertical-align: top;\n",
       "    }\n",
       "\n",
       "    .dataframe thead th {\n",
       "        text-align: right;\n",
       "    }\n",
       "</style>\n",
       "<table border=\"1\" class=\"dataframe\">\n",
       "  <thead>\n",
       "    <tr style=\"text-align: right;\">\n",
       "      <th></th>\n",
       "      <th>bike_name</th>\n",
       "      <th>price</th>\n",
       "      <th>city</th>\n",
       "      <th>kms_driven</th>\n",
       "      <th>owner</th>\n",
       "      <th>age</th>\n",
       "      <th>power</th>\n",
       "      <th>brand</th>\n",
       "    </tr>\n",
       "  </thead>\n",
       "  <tbody>\n",
       "    <tr>\n",
       "      <th>0</th>\n",
       "      <td>TVS Star City Plus Dual Tone 110cc</td>\n",
       "      <td>35000.0</td>\n",
       "      <td>Ahmedabad</td>\n",
       "      <td>17654.0</td>\n",
       "      <td>First Owner</td>\n",
       "      <td>3.0</td>\n",
       "      <td>110.0</td>\n",
       "      <td>TVS</td>\n",
       "    </tr>\n",
       "    <tr>\n",
       "      <th>1</th>\n",
       "      <td>Royal Enfield Classic 350cc</td>\n",
       "      <td>119900.0</td>\n",
       "      <td>Delhi</td>\n",
       "      <td>11000.0</td>\n",
       "      <td>First Owner</td>\n",
       "      <td>4.0</td>\n",
       "      <td>350.0</td>\n",
       "      <td>Royal Enfield</td>\n",
       "    </tr>\n",
       "    <tr>\n",
       "      <th>2</th>\n",
       "      <td>Triumph Daytona 675R</td>\n",
       "      <td>600000.0</td>\n",
       "      <td>Delhi</td>\n",
       "      <td>110.0</td>\n",
       "      <td>First Owner</td>\n",
       "      <td>8.0</td>\n",
       "      <td>675.0</td>\n",
       "      <td>Triumph</td>\n",
       "    </tr>\n",
       "  </tbody>\n",
       "</table>\n",
       "</div>"
      ],
      "text/plain": [
       "                            bike_name     price       city  kms_driven  \\\n",
       "0  TVS Star City Plus Dual Tone 110cc   35000.0  Ahmedabad     17654.0   \n",
       "1         Royal Enfield Classic 350cc  119900.0      Delhi     11000.0   \n",
       "2                Triumph Daytona 675R  600000.0      Delhi       110.0   \n",
       "\n",
       "         owner  age  power          brand  \n",
       "0  First Owner  3.0  110.0            TVS  \n",
       "1  First Owner  4.0  350.0  Royal Enfield  \n",
       "2  First Owner  8.0  675.0        Triumph  "
      ]
     },
     "execution_count": 4,
     "metadata": {},
     "output_type": "execute_result"
    }
   ],
   "source": [
    "#Reading a CSV file using pandas.\n",
    "myFile = pd.read_csv(\"Used_Bikes.csv\")\n",
    "\n",
    "#iska use tabhi karte hai jab data sahi row and coloum me naa ho yaha par iski jarurat nhi hai kyoki ye file:- CSV/Excel/JSON pahle se hi sahi hai iska use sirf Dictionary/List me karte hai\n",
    "df = pd.DataFrame(myFile)\n",
    "\n",
    "#iska use dataframe surat ki row ko print karbane ke liye karte hai\n",
    "df.head(3)"
   ]
  },
  {
   "cell_type": "code",
   "execution_count": 5,
   "metadata": {},
   "outputs": [
    {
     "data": {
      "application/vnd.microsoft.datawrangler.viewer.v0+json": {
       "columns": [
        {
         "name": "index",
         "rawType": "int64",
         "type": "integer"
        },
        {
         "name": "bike_name",
         "rawType": "object",
         "type": "string"
        },
        {
         "name": "price",
         "rawType": "float64",
         "type": "float"
        },
        {
         "name": "city",
         "rawType": "object",
         "type": "string"
        },
        {
         "name": "kms_driven",
         "rawType": "float64",
         "type": "float"
        },
        {
         "name": "owner",
         "rawType": "object",
         "type": "string"
        },
        {
         "name": "age",
         "rawType": "float64",
         "type": "float"
        },
        {
         "name": "power",
         "rawType": "float64",
         "type": "float"
        },
        {
         "name": "brand",
         "rawType": "object",
         "type": "string"
        }
       ],
       "conversionMethod": "pd.DataFrame",
       "ref": "17aa04fa-55a2-4b69-b598-dc5decc12f83",
       "rows": [
        [
         "32645",
         "Bajaj Avenger Street 220",
         "60000.0",
         "Delhi",
         "20373.0",
         "First Owner",
         "6.0",
         "220.0",
         "Bajaj"
        ],
        [
         "32646",
         "Hero Super Splendor 125cc",
         "15600.0",
         "Jaipur",
         "84186.0",
         "First Owner",
         "16.0",
         "125.0",
         "Hero"
        ],
        [
         "32647",
         "Bajaj Pulsar 150cc",
         "22000.0",
         "Pune",
         "60857.0",
         "First Owner",
         "13.0",
         "150.0",
         "Bajaj"
        ]
       ],
       "shape": {
        "columns": 8,
        "rows": 3
       }
      },
      "text/html": [
       "<div>\n",
       "<style scoped>\n",
       "    .dataframe tbody tr th:only-of-type {\n",
       "        vertical-align: middle;\n",
       "    }\n",
       "\n",
       "    .dataframe tbody tr th {\n",
       "        vertical-align: top;\n",
       "    }\n",
       "\n",
       "    .dataframe thead th {\n",
       "        text-align: right;\n",
       "    }\n",
       "</style>\n",
       "<table border=\"1\" class=\"dataframe\">\n",
       "  <thead>\n",
       "    <tr style=\"text-align: right;\">\n",
       "      <th></th>\n",
       "      <th>bike_name</th>\n",
       "      <th>price</th>\n",
       "      <th>city</th>\n",
       "      <th>kms_driven</th>\n",
       "      <th>owner</th>\n",
       "      <th>age</th>\n",
       "      <th>power</th>\n",
       "      <th>brand</th>\n",
       "    </tr>\n",
       "  </thead>\n",
       "  <tbody>\n",
       "    <tr>\n",
       "      <th>32645</th>\n",
       "      <td>Bajaj Avenger Street 220</td>\n",
       "      <td>60000.0</td>\n",
       "      <td>Delhi</td>\n",
       "      <td>20373.0</td>\n",
       "      <td>First Owner</td>\n",
       "      <td>6.0</td>\n",
       "      <td>220.0</td>\n",
       "      <td>Bajaj</td>\n",
       "    </tr>\n",
       "    <tr>\n",
       "      <th>32646</th>\n",
       "      <td>Hero Super Splendor 125cc</td>\n",
       "      <td>15600.0</td>\n",
       "      <td>Jaipur</td>\n",
       "      <td>84186.0</td>\n",
       "      <td>First Owner</td>\n",
       "      <td>16.0</td>\n",
       "      <td>125.0</td>\n",
       "      <td>Hero</td>\n",
       "    </tr>\n",
       "    <tr>\n",
       "      <th>32647</th>\n",
       "      <td>Bajaj Pulsar 150cc</td>\n",
       "      <td>22000.0</td>\n",
       "      <td>Pune</td>\n",
       "      <td>60857.0</td>\n",
       "      <td>First Owner</td>\n",
       "      <td>13.0</td>\n",
       "      <td>150.0</td>\n",
       "      <td>Bajaj</td>\n",
       "    </tr>\n",
       "  </tbody>\n",
       "</table>\n",
       "</div>"
      ],
      "text/plain": [
       "                       bike_name    price    city  kms_driven        owner  \\\n",
       "32645   Bajaj Avenger Street 220  60000.0   Delhi     20373.0  First Owner   \n",
       "32646  Hero Super Splendor 125cc  15600.0  Jaipur     84186.0  First Owner   \n",
       "32647         Bajaj Pulsar 150cc  22000.0    Pune     60857.0  First Owner   \n",
       "\n",
       "        age  power  brand  \n",
       "32645   6.0  220.0  Bajaj  \n",
       "32646  16.0  125.0   Hero  \n",
       "32647  13.0  150.0  Bajaj  "
      ]
     },
     "execution_count": 5,
     "metadata": {},
     "output_type": "execute_result"
    }
   ],
   "source": [
    "# iska use data frame ki niche ki line ko print karvane ke liye karte \n",
    "df.tail(3)"
   ]
  },
  {
   "cell_type": "code",
   "execution_count": 6,
   "metadata": {},
   "outputs": [
    {
     "name": "stdout",
     "output_type": "stream",
     "text": [
      "<class 'pandas.core.frame.DataFrame'>\n",
      "RangeIndex: 32648 entries, 0 to 32647\n",
      "Data columns (total 8 columns):\n",
      " #   Column      Non-Null Count  Dtype  \n",
      "---  ------      --------------  -----  \n",
      " 0   bike_name   32648 non-null  object \n",
      " 1   price       32648 non-null  float64\n",
      " 2   city        32648 non-null  object \n",
      " 3   kms_driven  32648 non-null  float64\n",
      " 4   owner       32648 non-null  object \n",
      " 5   age         32648 non-null  float64\n",
      " 6   power       32648 non-null  float64\n",
      " 7   brand       32648 non-null  object \n",
      "dtypes: float64(4), object(4)\n",
      "memory usage: 2.0+ MB\n"
     ]
    }
   ],
   "source": [
    "#Getting information about the Data Frame\n",
    "#  iska use dat frame ki infomatiom ke liye karte hai ki usme kya kya hia \n",
    "df.info()"
   ]
  },
  {
   "cell_type": "code",
   "execution_count": 7,
   "metadata": {},
   "outputs": [
    {
     "data": {
      "application/vnd.microsoft.datawrangler.viewer.v0+json": {
       "columns": [
        {
         "name": "index",
         "rawType": "object",
         "type": "string"
        },
        {
         "name": "price",
         "rawType": "float64",
         "type": "float"
        },
        {
         "name": "kms_driven",
         "rawType": "float64",
         "type": "float"
        },
        {
         "name": "age",
         "rawType": "float64",
         "type": "float"
        },
        {
         "name": "power",
         "rawType": "float64",
         "type": "float"
        }
       ],
       "conversionMethod": "pd.DataFrame",
       "ref": "8203133b-1442-443b-b991-c5d88d6f5a07",
       "rows": [
        [
         "count",
         "32648.0",
         "32648.0",
         "32648.0",
         "32648.0"
        ],
        [
         "mean",
         "68295.41763660868",
         "26344.625183778484",
         "8.048211222739525",
         "213.51130237686843"
        ],
        [
         "std",
         "90718.5952052487",
         "22208.527694959797",
         "4.031700112790477",
         "134.428868361841"
        ],
        [
         "min",
         "4400.0",
         "1.0",
         "1.0",
         "100.0"
        ],
        [
         "25%",
         "25000.0",
         "12000.0",
         "5.0",
         "150.0"
        ],
        [
         "50%",
         "43000.0",
         "20373.0",
         "7.0",
         "150.0"
        ],
        [
         "75%",
         "80000.0",
         "35000.0",
         "10.0",
         "220.0"
        ],
        [
         "max",
         "1900000.0",
         "750000.0",
         "63.0",
         "1800.0"
        ]
       ],
       "shape": {
        "columns": 4,
        "rows": 8
       }
      },
      "text/html": [
       "<div>\n",
       "<style scoped>\n",
       "    .dataframe tbody tr th:only-of-type {\n",
       "        vertical-align: middle;\n",
       "    }\n",
       "\n",
       "    .dataframe tbody tr th {\n",
       "        vertical-align: top;\n",
       "    }\n",
       "\n",
       "    .dataframe thead th {\n",
       "        text-align: right;\n",
       "    }\n",
       "</style>\n",
       "<table border=\"1\" class=\"dataframe\">\n",
       "  <thead>\n",
       "    <tr style=\"text-align: right;\">\n",
       "      <th></th>\n",
       "      <th>price</th>\n",
       "      <th>kms_driven</th>\n",
       "      <th>age</th>\n",
       "      <th>power</th>\n",
       "    </tr>\n",
       "  </thead>\n",
       "  <tbody>\n",
       "    <tr>\n",
       "      <th>count</th>\n",
       "      <td>3.264800e+04</td>\n",
       "      <td>32648.000000</td>\n",
       "      <td>32648.000000</td>\n",
       "      <td>32648.000000</td>\n",
       "    </tr>\n",
       "    <tr>\n",
       "      <th>mean</th>\n",
       "      <td>6.829542e+04</td>\n",
       "      <td>26344.625184</td>\n",
       "      <td>8.048211</td>\n",
       "      <td>213.511302</td>\n",
       "    </tr>\n",
       "    <tr>\n",
       "      <th>std</th>\n",
       "      <td>9.071860e+04</td>\n",
       "      <td>22208.527695</td>\n",
       "      <td>4.031700</td>\n",
       "      <td>134.428868</td>\n",
       "    </tr>\n",
       "    <tr>\n",
       "      <th>min</th>\n",
       "      <td>4.400000e+03</td>\n",
       "      <td>1.000000</td>\n",
       "      <td>1.000000</td>\n",
       "      <td>100.000000</td>\n",
       "    </tr>\n",
       "    <tr>\n",
       "      <th>25%</th>\n",
       "      <td>2.500000e+04</td>\n",
       "      <td>12000.000000</td>\n",
       "      <td>5.000000</td>\n",
       "      <td>150.000000</td>\n",
       "    </tr>\n",
       "    <tr>\n",
       "      <th>50%</th>\n",
       "      <td>4.300000e+04</td>\n",
       "      <td>20373.000000</td>\n",
       "      <td>7.000000</td>\n",
       "      <td>150.000000</td>\n",
       "    </tr>\n",
       "    <tr>\n",
       "      <th>75%</th>\n",
       "      <td>8.000000e+04</td>\n",
       "      <td>35000.000000</td>\n",
       "      <td>10.000000</td>\n",
       "      <td>220.000000</td>\n",
       "    </tr>\n",
       "    <tr>\n",
       "      <th>max</th>\n",
       "      <td>1.900000e+06</td>\n",
       "      <td>750000.000000</td>\n",
       "      <td>63.000000</td>\n",
       "      <td>1800.000000</td>\n",
       "    </tr>\n",
       "  </tbody>\n",
       "</table>\n",
       "</div>"
      ],
      "text/plain": [
       "              price     kms_driven           age         power\n",
       "count  3.264800e+04   32648.000000  32648.000000  32648.000000\n",
       "mean   6.829542e+04   26344.625184      8.048211    213.511302\n",
       "std    9.071860e+04   22208.527695      4.031700    134.428868\n",
       "min    4.400000e+03       1.000000      1.000000    100.000000\n",
       "25%    2.500000e+04   12000.000000      5.000000    150.000000\n",
       "50%    4.300000e+04   20373.000000      7.000000    150.000000\n",
       "75%    8.000000e+04   35000.000000     10.000000    220.000000\n",
       "max    1.900000e+06  750000.000000     63.000000   1800.000000"
      ]
     },
     "execution_count": 7,
     "metadata": {},
     "output_type": "execute_result"
    }
   ],
   "source": [
    "#Generates summary statistics for numerical columns in a DataFrame, including count, mean, std, min, and quartiles.\n",
    "df.describe()"
   ]
  },
  {
   "cell_type": "code",
   "execution_count": 8,
   "metadata": {},
   "outputs": [
    {
     "name": "stdout",
     "output_type": "stream",
     "text": [
      "bike_name      object\n",
      "price         float64\n",
      "city           object\n",
      "kms_driven    float64\n",
      "owner          object\n",
      "age           float64\n",
      "power         float64\n",
      "brand          object\n",
      "dtype: object\n"
     ]
    }
   ],
   "source": [
    "#Getting Data Type of each column.\n",
    "print(df.dtypes)"
   ]
  },
  {
   "cell_type": "code",
   "execution_count": 9,
   "metadata": {},
   "outputs": [
    {
     "name": "stdout",
     "output_type": "stream",
     "text": [
      "(32648, 8)\n"
     ]
    }
   ],
   "source": [
    "#Getting number of Rows and Columns of a Data Frame.\n",
    "print(df.shape)"
   ]
  },
  {
   "cell_type": "markdown",
   "metadata": {},
   "source": [
    "Accessing the Features from a Data Frame."
   ]
  },
  {
   "cell_type": "code",
   "execution_count": 10,
   "metadata": {},
   "outputs": [
    {
     "data": {
      "text/plain": [
       "0                  TVS\n",
       "1        Royal Enfield\n",
       "2              Triumph\n",
       "3                  TVS\n",
       "4               Yamaha\n",
       "             ...      \n",
       "32643             Hero\n",
       "32644              TVS\n",
       "32645            Bajaj\n",
       "32646             Hero\n",
       "32647            Bajaj\n",
       "Name: brand, Length: 32648, dtype: object"
      ]
     },
     "execution_count": 10,
     "metadata": {},
     "output_type": "execute_result"
    }
   ],
   "source": [
    "brand_name_df = df[\"brand\"]\n",
    "brand_name_df"
   ]
  },
  {
   "cell_type": "code",
   "execution_count": 11,
   "metadata": {},
   "outputs": [
    {
     "name": "stdout",
     "output_type": "stream",
     "text": [
      "['TVS' 'Royal Enfield' 'Triumph' 'Yamaha' 'Honda' 'Hero' 'Bajaj' 'Suzuki'\n",
      " 'Benelli' 'KTM' 'Mahindra' 'Kawasaki' 'Ducati' 'Hyosung'\n",
      " 'Harley-Davidson' 'Jawa' 'BMW' 'Indian' 'Rajdoot' 'LML' 'Yezdi' 'MV'\n",
      " 'Ideal']\n"
     ]
    }
   ],
   "source": [
    "#Getting all the unique entries.\n",
    "print(brand_name_df.unique())"
   ]
  },
  {
   "cell_type": "code",
   "execution_count": 12,
   "metadata": {},
   "outputs": [
    {
     "name": "stdout",
     "output_type": "stream",
     "text": [
      "23\n"
     ]
    }
   ],
   "source": [
    "#Getting the number of unique entries.\n",
    "print(brand_name_df.nunique())"
   ]
  },
  {
   "cell_type": "code",
   "execution_count": 13,
   "metadata": {},
   "outputs": [
    {
     "name": "stdout",
     "output_type": "stream",
     "text": [
      "471\n"
     ]
    }
   ],
   "source": [
    "bike_name_df = df[\"bike_name\"]\n",
    "print(bike_name_df.nunique())"
   ]
  },
  {
   "cell_type": "code",
   "execution_count": 14,
   "metadata": {},
   "outputs": [
    {
     "name": "stdout",
     "output_type": "stream",
     "text": [
      "bike_name     Triumph Daytona 675R\n",
      "price                     600000.0\n",
      "city                         Delhi\n",
      "kms_driven                   110.0\n",
      "owner                  First Owner\n",
      "age                            8.0\n",
      "power                        675.0\n",
      "brand                      Triumph\n",
      "Name: 2, dtype: object\n"
     ]
    }
   ],
   "source": [
    "#Getting all the features for a paricular row.\n",
    "print(df.iloc[2])"
   ]
  },
  {
   "cell_type": "code",
   "execution_count": 15,
   "metadata": {},
   "outputs": [
    {
     "data": {
      "application/vnd.microsoft.datawrangler.viewer.v0+json": {
       "columns": [
        {
         "name": "index",
         "rawType": "int64",
         "type": "integer"
        },
        {
         "name": "bike_name",
         "rawType": "object",
         "type": "string"
        },
        {
         "name": "price",
         "rawType": "float64",
         "type": "float"
        },
        {
         "name": "city",
         "rawType": "object",
         "type": "string"
        },
        {
         "name": "kms_driven",
         "rawType": "float64",
         "type": "float"
        },
        {
         "name": "owner",
         "rawType": "object",
         "type": "string"
        },
        {
         "name": "age",
         "rawType": "float64",
         "type": "float"
        },
        {
         "name": "power",
         "rawType": "float64",
         "type": "float"
        },
        {
         "name": "brand",
         "rawType": "object",
         "type": "string"
        }
       ],
       "conversionMethod": "pd.DataFrame",
       "ref": "861ab30b-e9ca-48c8-b9c7-0c29bb230669",
       "rows": [
        [
         "2",
         "Triumph Daytona 675R",
         "600000.0",
         "Delhi",
         "110.0",
         "First Owner",
         "8.0",
         "675.0",
         "Triumph"
        ],
        [
         "3",
         "TVS Apache RTR 180cc",
         "65000.0",
         "Bangalore",
         "16329.0",
         "First Owner",
         "4.0",
         "180.0",
         "TVS"
        ],
        [
         "4",
         "Yamaha FZ S V 2.0 150cc-Ltd. Edition",
         "80000.0",
         "Bangalore",
         "10000.0",
         "First Owner",
         "3.0",
         "150.0",
         "Yamaha"
        ],
        [
         "5",
         "Yamaha FZs 150cc",
         "53499.0",
         "Delhi",
         "25000.0",
         "First Owner",
         "6.0",
         "150.0",
         "Yamaha"
        ]
       ],
       "shape": {
        "columns": 8,
        "rows": 4
       }
      },
      "text/html": [
       "<div>\n",
       "<style scoped>\n",
       "    .dataframe tbody tr th:only-of-type {\n",
       "        vertical-align: middle;\n",
       "    }\n",
       "\n",
       "    .dataframe tbody tr th {\n",
       "        vertical-align: top;\n",
       "    }\n",
       "\n",
       "    .dataframe thead th {\n",
       "        text-align: right;\n",
       "    }\n",
       "</style>\n",
       "<table border=\"1\" class=\"dataframe\">\n",
       "  <thead>\n",
       "    <tr style=\"text-align: right;\">\n",
       "      <th></th>\n",
       "      <th>bike_name</th>\n",
       "      <th>price</th>\n",
       "      <th>city</th>\n",
       "      <th>kms_driven</th>\n",
       "      <th>owner</th>\n",
       "      <th>age</th>\n",
       "      <th>power</th>\n",
       "      <th>brand</th>\n",
       "    </tr>\n",
       "  </thead>\n",
       "  <tbody>\n",
       "    <tr>\n",
       "      <th>2</th>\n",
       "      <td>Triumph Daytona 675R</td>\n",
       "      <td>600000.0</td>\n",
       "      <td>Delhi</td>\n",
       "      <td>110.0</td>\n",
       "      <td>First Owner</td>\n",
       "      <td>8.0</td>\n",
       "      <td>675.0</td>\n",
       "      <td>Triumph</td>\n",
       "    </tr>\n",
       "    <tr>\n",
       "      <th>3</th>\n",
       "      <td>TVS Apache RTR 180cc</td>\n",
       "      <td>65000.0</td>\n",
       "      <td>Bangalore</td>\n",
       "      <td>16329.0</td>\n",
       "      <td>First Owner</td>\n",
       "      <td>4.0</td>\n",
       "      <td>180.0</td>\n",
       "      <td>TVS</td>\n",
       "    </tr>\n",
       "    <tr>\n",
       "      <th>4</th>\n",
       "      <td>Yamaha FZ S V 2.0 150cc-Ltd. Edition</td>\n",
       "      <td>80000.0</td>\n",
       "      <td>Bangalore</td>\n",
       "      <td>10000.0</td>\n",
       "      <td>First Owner</td>\n",
       "      <td>3.0</td>\n",
       "      <td>150.0</td>\n",
       "      <td>Yamaha</td>\n",
       "    </tr>\n",
       "    <tr>\n",
       "      <th>5</th>\n",
       "      <td>Yamaha FZs 150cc</td>\n",
       "      <td>53499.0</td>\n",
       "      <td>Delhi</td>\n",
       "      <td>25000.0</td>\n",
       "      <td>First Owner</td>\n",
       "      <td>6.0</td>\n",
       "      <td>150.0</td>\n",
       "      <td>Yamaha</td>\n",
       "    </tr>\n",
       "  </tbody>\n",
       "</table>\n",
       "</div>"
      ],
      "text/plain": [
       "                              bike_name     price       city  kms_driven  \\\n",
       "2                  Triumph Daytona 675R  600000.0      Delhi       110.0   \n",
       "3                  TVS Apache RTR 180cc   65000.0  Bangalore     16329.0   \n",
       "4  Yamaha FZ S V 2.0 150cc-Ltd. Edition   80000.0  Bangalore     10000.0   \n",
       "5                      Yamaha FZs 150cc   53499.0      Delhi     25000.0   \n",
       "\n",
       "         owner  age  power    brand  \n",
       "2  First Owner  8.0  675.0  Triumph  \n",
       "3  First Owner  4.0  180.0      TVS  \n",
       "4  First Owner  3.0  150.0   Yamaha  \n",
       "5  First Owner  6.0  150.0   Yamaha  "
      ]
     },
     "execution_count": 15,
     "metadata": {},
     "output_type": "execute_result"
    }
   ],
   "source": [
    "#Getting all the features for a certain range.\n",
    "df.iloc[2:6]"
   ]
  },
  {
   "cell_type": "code",
   "execution_count": 16,
   "metadata": {},
   "outputs": [
    {
     "data": {
      "application/vnd.microsoft.datawrangler.viewer.v0+json": {
       "columns": [
        {
         "name": "index",
         "rawType": "int64",
         "type": "integer"
        },
        {
         "name": "bike_name",
         "rawType": "bool",
         "type": "boolean"
        },
        {
         "name": "price",
         "rawType": "bool",
         "type": "boolean"
        },
        {
         "name": "city",
         "rawType": "bool",
         "type": "boolean"
        },
        {
         "name": "kms_driven",
         "rawType": "bool",
         "type": "boolean"
        },
        {
         "name": "owner",
         "rawType": "bool",
         "type": "boolean"
        },
        {
         "name": "age",
         "rawType": "bool",
         "type": "boolean"
        },
        {
         "name": "power",
         "rawType": "bool",
         "type": "boolean"
        },
        {
         "name": "brand",
         "rawType": "bool",
         "type": "boolean"
        }
       ],
       "conversionMethod": "pd.DataFrame",
       "ref": "08dd6ed3-8538-4785-9196-0164927df232",
       "rows": [
        [
         "0",
         "False",
         "False",
         "False",
         "False",
         "False",
         "False",
         "False",
         "False"
        ],
        [
         "1",
         "False",
         "False",
         "False",
         "False",
         "False",
         "False",
         "False",
         "False"
        ],
        [
         "2",
         "False",
         "False",
         "False",
         "False",
         "False",
         "False",
         "False",
         "False"
        ],
        [
         "3",
         "False",
         "False",
         "False",
         "False",
         "False",
         "False",
         "False",
         "False"
        ],
        [
         "4",
         "False",
         "False",
         "False",
         "False",
         "False",
         "False",
         "False",
         "False"
        ],
        [
         "5",
         "False",
         "False",
         "False",
         "False",
         "False",
         "False",
         "False",
         "False"
        ],
        [
         "6",
         "False",
         "False",
         "False",
         "False",
         "False",
         "False",
         "False",
         "False"
        ],
        [
         "7",
         "False",
         "False",
         "False",
         "False",
         "False",
         "False",
         "False",
         "False"
        ],
        [
         "8",
         "False",
         "False",
         "False",
         "False",
         "False",
         "False",
         "False",
         "False"
        ],
        [
         "9",
         "False",
         "False",
         "False",
         "False",
         "False",
         "False",
         "False",
         "False"
        ],
        [
         "10",
         "False",
         "False",
         "False",
         "False",
         "False",
         "False",
         "False",
         "False"
        ],
        [
         "11",
         "False",
         "False",
         "False",
         "False",
         "False",
         "False",
         "False",
         "False"
        ],
        [
         "12",
         "False",
         "False",
         "False",
         "False",
         "False",
         "False",
         "False",
         "False"
        ],
        [
         "13",
         "False",
         "False",
         "False",
         "False",
         "False",
         "False",
         "False",
         "False"
        ],
        [
         "14",
         "False",
         "False",
         "False",
         "False",
         "False",
         "False",
         "False",
         "False"
        ],
        [
         "15",
         "False",
         "False",
         "False",
         "False",
         "False",
         "False",
         "False",
         "False"
        ],
        [
         "16",
         "False",
         "False",
         "False",
         "False",
         "False",
         "False",
         "False",
         "False"
        ],
        [
         "17",
         "False",
         "False",
         "False",
         "False",
         "False",
         "False",
         "False",
         "False"
        ],
        [
         "18",
         "False",
         "False",
         "False",
         "False",
         "False",
         "False",
         "False",
         "False"
        ],
        [
         "19",
         "False",
         "False",
         "False",
         "False",
         "False",
         "False",
         "False",
         "False"
        ],
        [
         "20",
         "False",
         "False",
         "False",
         "False",
         "False",
         "False",
         "False",
         "False"
        ],
        [
         "21",
         "False",
         "False",
         "False",
         "False",
         "False",
         "False",
         "False",
         "False"
        ],
        [
         "22",
         "False",
         "False",
         "False",
         "False",
         "False",
         "False",
         "False",
         "False"
        ],
        [
         "23",
         "False",
         "False",
         "False",
         "False",
         "False",
         "False",
         "False",
         "False"
        ],
        [
         "24",
         "False",
         "False",
         "False",
         "False",
         "False",
         "False",
         "False",
         "False"
        ],
        [
         "25",
         "False",
         "False",
         "False",
         "False",
         "False",
         "False",
         "False",
         "False"
        ],
        [
         "26",
         "False",
         "False",
         "False",
         "False",
         "False",
         "False",
         "False",
         "False"
        ],
        [
         "27",
         "False",
         "False",
         "False",
         "False",
         "False",
         "False",
         "False",
         "False"
        ],
        [
         "28",
         "False",
         "False",
         "False",
         "False",
         "False",
         "False",
         "False",
         "False"
        ],
        [
         "29",
         "False",
         "False",
         "False",
         "False",
         "False",
         "False",
         "False",
         "False"
        ],
        [
         "30",
         "False",
         "False",
         "False",
         "False",
         "False",
         "False",
         "False",
         "False"
        ],
        [
         "31",
         "False",
         "False",
         "False",
         "False",
         "False",
         "False",
         "False",
         "False"
        ],
        [
         "32",
         "False",
         "False",
         "False",
         "False",
         "False",
         "False",
         "False",
         "False"
        ],
        [
         "33",
         "False",
         "False",
         "False",
         "False",
         "False",
         "False",
         "False",
         "False"
        ],
        [
         "34",
         "False",
         "False",
         "False",
         "False",
         "False",
         "False",
         "False",
         "False"
        ],
        [
         "35",
         "False",
         "False",
         "False",
         "False",
         "False",
         "False",
         "False",
         "False"
        ],
        [
         "36",
         "False",
         "False",
         "False",
         "False",
         "False",
         "False",
         "False",
         "False"
        ],
        [
         "37",
         "False",
         "False",
         "False",
         "False",
         "False",
         "False",
         "False",
         "False"
        ],
        [
         "38",
         "False",
         "False",
         "False",
         "False",
         "False",
         "False",
         "False",
         "False"
        ],
        [
         "39",
         "False",
         "False",
         "False",
         "False",
         "False",
         "False",
         "False",
         "False"
        ],
        [
         "40",
         "False",
         "False",
         "False",
         "False",
         "False",
         "False",
         "False",
         "False"
        ],
        [
         "41",
         "False",
         "False",
         "False",
         "False",
         "False",
         "False",
         "False",
         "False"
        ],
        [
         "42",
         "False",
         "False",
         "False",
         "False",
         "False",
         "False",
         "False",
         "False"
        ],
        [
         "43",
         "False",
         "False",
         "False",
         "False",
         "False",
         "False",
         "False",
         "False"
        ],
        [
         "44",
         "False",
         "False",
         "False",
         "False",
         "False",
         "False",
         "False",
         "False"
        ],
        [
         "45",
         "False",
         "False",
         "False",
         "False",
         "False",
         "False",
         "False",
         "False"
        ],
        [
         "46",
         "False",
         "False",
         "False",
         "False",
         "False",
         "False",
         "False",
         "False"
        ],
        [
         "47",
         "False",
         "False",
         "False",
         "False",
         "False",
         "False",
         "False",
         "False"
        ],
        [
         "48",
         "False",
         "False",
         "False",
         "False",
         "False",
         "False",
         "False",
         "False"
        ],
        [
         "49",
         "False",
         "False",
         "False",
         "False",
         "False",
         "False",
         "False",
         "False"
        ]
       ],
       "shape": {
        "columns": 8,
        "rows": 32648
       }
      },
      "text/html": [
       "<div>\n",
       "<style scoped>\n",
       "    .dataframe tbody tr th:only-of-type {\n",
       "        vertical-align: middle;\n",
       "    }\n",
       "\n",
       "    .dataframe tbody tr th {\n",
       "        vertical-align: top;\n",
       "    }\n",
       "\n",
       "    .dataframe thead th {\n",
       "        text-align: right;\n",
       "    }\n",
       "</style>\n",
       "<table border=\"1\" class=\"dataframe\">\n",
       "  <thead>\n",
       "    <tr style=\"text-align: right;\">\n",
       "      <th></th>\n",
       "      <th>bike_name</th>\n",
       "      <th>price</th>\n",
       "      <th>city</th>\n",
       "      <th>kms_driven</th>\n",
       "      <th>owner</th>\n",
       "      <th>age</th>\n",
       "      <th>power</th>\n",
       "      <th>brand</th>\n",
       "    </tr>\n",
       "  </thead>\n",
       "  <tbody>\n",
       "    <tr>\n",
       "      <th>0</th>\n",
       "      <td>False</td>\n",
       "      <td>False</td>\n",
       "      <td>False</td>\n",
       "      <td>False</td>\n",
       "      <td>False</td>\n",
       "      <td>False</td>\n",
       "      <td>False</td>\n",
       "      <td>False</td>\n",
       "    </tr>\n",
       "    <tr>\n",
       "      <th>1</th>\n",
       "      <td>False</td>\n",
       "      <td>False</td>\n",
       "      <td>False</td>\n",
       "      <td>False</td>\n",
       "      <td>False</td>\n",
       "      <td>False</td>\n",
       "      <td>False</td>\n",
       "      <td>False</td>\n",
       "    </tr>\n",
       "    <tr>\n",
       "      <th>2</th>\n",
       "      <td>False</td>\n",
       "      <td>False</td>\n",
       "      <td>False</td>\n",
       "      <td>False</td>\n",
       "      <td>False</td>\n",
       "      <td>False</td>\n",
       "      <td>False</td>\n",
       "      <td>False</td>\n",
       "    </tr>\n",
       "    <tr>\n",
       "      <th>3</th>\n",
       "      <td>False</td>\n",
       "      <td>False</td>\n",
       "      <td>False</td>\n",
       "      <td>False</td>\n",
       "      <td>False</td>\n",
       "      <td>False</td>\n",
       "      <td>False</td>\n",
       "      <td>False</td>\n",
       "    </tr>\n",
       "    <tr>\n",
       "      <th>4</th>\n",
       "      <td>False</td>\n",
       "      <td>False</td>\n",
       "      <td>False</td>\n",
       "      <td>False</td>\n",
       "      <td>False</td>\n",
       "      <td>False</td>\n",
       "      <td>False</td>\n",
       "      <td>False</td>\n",
       "    </tr>\n",
       "    <tr>\n",
       "      <th>...</th>\n",
       "      <td>...</td>\n",
       "      <td>...</td>\n",
       "      <td>...</td>\n",
       "      <td>...</td>\n",
       "      <td>...</td>\n",
       "      <td>...</td>\n",
       "      <td>...</td>\n",
       "      <td>...</td>\n",
       "    </tr>\n",
       "    <tr>\n",
       "      <th>32643</th>\n",
       "      <td>False</td>\n",
       "      <td>False</td>\n",
       "      <td>False</td>\n",
       "      <td>False</td>\n",
       "      <td>False</td>\n",
       "      <td>False</td>\n",
       "      <td>False</td>\n",
       "      <td>False</td>\n",
       "    </tr>\n",
       "    <tr>\n",
       "      <th>32644</th>\n",
       "      <td>False</td>\n",
       "      <td>False</td>\n",
       "      <td>False</td>\n",
       "      <td>False</td>\n",
       "      <td>False</td>\n",
       "      <td>False</td>\n",
       "      <td>False</td>\n",
       "      <td>False</td>\n",
       "    </tr>\n",
       "    <tr>\n",
       "      <th>32645</th>\n",
       "      <td>False</td>\n",
       "      <td>False</td>\n",
       "      <td>False</td>\n",
       "      <td>False</td>\n",
       "      <td>False</td>\n",
       "      <td>False</td>\n",
       "      <td>False</td>\n",
       "      <td>False</td>\n",
       "    </tr>\n",
       "    <tr>\n",
       "      <th>32646</th>\n",
       "      <td>False</td>\n",
       "      <td>False</td>\n",
       "      <td>False</td>\n",
       "      <td>False</td>\n",
       "      <td>False</td>\n",
       "      <td>False</td>\n",
       "      <td>False</td>\n",
       "      <td>False</td>\n",
       "    </tr>\n",
       "    <tr>\n",
       "      <th>32647</th>\n",
       "      <td>False</td>\n",
       "      <td>False</td>\n",
       "      <td>False</td>\n",
       "      <td>False</td>\n",
       "      <td>False</td>\n",
       "      <td>False</td>\n",
       "      <td>False</td>\n",
       "      <td>False</td>\n",
       "    </tr>\n",
       "  </tbody>\n",
       "</table>\n",
       "<p>32648 rows × 8 columns</p>\n",
       "</div>"
      ],
      "text/plain": [
       "       bike_name  price   city  kms_driven  owner    age  power  brand\n",
       "0          False  False  False       False  False  False  False  False\n",
       "1          False  False  False       False  False  False  False  False\n",
       "2          False  False  False       False  False  False  False  False\n",
       "3          False  False  False       False  False  False  False  False\n",
       "4          False  False  False       False  False  False  False  False\n",
       "...          ...    ...    ...         ...    ...    ...    ...    ...\n",
       "32643      False  False  False       False  False  False  False  False\n",
       "32644      False  False  False       False  False  False  False  False\n",
       "32645      False  False  False       False  False  False  False  False\n",
       "32646      False  False  False       False  False  False  False  False\n",
       "32647      False  False  False       False  False  False  False  False\n",
       "\n",
       "[32648 rows x 8 columns]"
      ]
     },
     "execution_count": 16,
     "metadata": {},
     "output_type": "execute_result"
    }
   ],
   "source": [
    "#Checking if values are null.\n",
    "df.isnull()"
   ]
  },
  {
   "cell_type": "code",
   "execution_count": 17,
   "metadata": {},
   "outputs": [
    {
     "data": {
      "text/plain": [
       "bike_name     0\n",
       "price         0\n",
       "city          0\n",
       "kms_driven    0\n",
       "owner         0\n",
       "age           0\n",
       "power         0\n",
       "brand         0\n",
       "dtype: int64"
      ]
     },
     "execution_count": 17,
     "metadata": {},
     "output_type": "execute_result"
    }
   ],
   "source": [
    "#Counting the null values.\n",
    "df.isnull().sum()"
   ]
  },
  {
   "cell_type": "code",
   "execution_count": 18,
   "metadata": {},
   "outputs": [
    {
     "data": {
      "text/plain": [
       "0        False\n",
       "1        False\n",
       "2        False\n",
       "3        False\n",
       "4        False\n",
       "         ...  \n",
       "32643     True\n",
       "32644     True\n",
       "32645     True\n",
       "32646     True\n",
       "32647     True\n",
       "Length: 32648, dtype: bool"
      ]
     },
     "execution_count": 18,
     "metadata": {},
     "output_type": "execute_result"
    }
   ],
   "source": [
    "#Find duplicate values.\n",
    "df.duplicated()"
   ]
  },
  {
   "cell_type": "code",
   "execution_count": 19,
   "metadata": {},
   "outputs": [
    {
     "name": "stdout",
     "output_type": "stream",
     "text": [
      "25324\n"
     ]
    }
   ],
   "source": [
    "#Total duplicate values.\n",
    "print(df.duplicated().sum())"
   ]
  },
  {
   "cell_type": "code",
   "execution_count": 20,
   "metadata": {},
   "outputs": [
    {
     "data": {
      "application/vnd.microsoft.datawrangler.viewer.v0+json": {
       "columns": [
        {
         "name": "index",
         "rawType": "int64",
         "type": "integer"
        },
        {
         "name": "bike_name",
         "rawType": "object",
         "type": "string"
        },
        {
         "name": "price",
         "rawType": "float64",
         "type": "float"
        },
        {
         "name": "city",
         "rawType": "object",
         "type": "string"
        },
        {
         "name": "kms_driven",
         "rawType": "float64",
         "type": "float"
        },
        {
         "name": "owner",
         "rawType": "object",
         "type": "string"
        },
        {
         "name": "age",
         "rawType": "float64",
         "type": "float"
        },
        {
         "name": "power",
         "rawType": "float64",
         "type": "float"
        },
        {
         "name": "brand",
         "rawType": "object",
         "type": "string"
        }
       ],
       "conversionMethod": "pd.DataFrame",
       "ref": "708f4262-8df6-4214-a600-ba597e3d840c",
       "rows": [
        [
         "0",
         "TVS Star City Plus Dual Tone 110cc",
         "35000.0",
         "Ahmedabad",
         "17654.0",
         "First Owner",
         "3.0",
         "110.0",
         "TVS"
        ],
        [
         "1",
         "Royal Enfield Classic 350cc",
         "119900.0",
         "Delhi",
         "11000.0",
         "First Owner",
         "4.0",
         "350.0",
         "Royal Enfield"
        ],
        [
         "2",
         "Triumph Daytona 675R",
         "600000.0",
         "Delhi",
         "110.0",
         "First Owner",
         "8.0",
         "675.0",
         "Triumph"
        ],
        [
         "3",
         "TVS Apache RTR 180cc",
         "65000.0",
         "Bangalore",
         "16329.0",
         "First Owner",
         "4.0",
         "180.0",
         "TVS"
        ],
        [
         "4",
         "Yamaha FZ S V 2.0 150cc-Ltd. Edition",
         "80000.0",
         "Bangalore",
         "10000.0",
         "First Owner",
         "3.0",
         "150.0",
         "Yamaha"
        ],
        [
         "5",
         "Yamaha FZs 150cc",
         "53499.0",
         "Delhi",
         "25000.0",
         "First Owner",
         "6.0",
         "150.0",
         "Yamaha"
        ],
        [
         "6",
         "Honda CB Hornet 160R  ABS DLX",
         "85000.0",
         "Delhi",
         "8200.0",
         "First Owner",
         "3.0",
         "160.0",
         "Honda"
        ],
        [
         "7",
         "Hero Splendor Plus Self Alloy 100cc",
         "45000.0",
         "Delhi",
         "12645.0",
         "First Owner",
         "3.0",
         "100.0",
         "Hero"
        ],
        [
         "8",
         "Royal Enfield Thunderbird X 350cc",
         "145000.0",
         "Bangalore",
         "9190.0",
         "First Owner",
         "3.0",
         "350.0",
         "Royal Enfield"
        ],
        [
         "9",
         "Royal Enfield Classic Desert Storm 500cc",
         "88000.0",
         "Delhi",
         "19000.0",
         "Second Owner",
         "7.0",
         "500.0",
         "Royal Enfield"
        ],
        [
         "10",
         "Yamaha YZF-R15 2.0 150cc",
         "72000.0",
         "Bangalore",
         "20000.0",
         "First Owner",
         "7.0",
         "150.0",
         "Yamaha"
        ],
        [
         "11",
         "Yamaha FZ25 250cc",
         "95000.0",
         "Bangalore",
         "9665.0",
         "First Owner",
         "4.0",
         "250.0",
         "Yamaha"
        ],
        [
         "12",
         "Bajaj Pulsar NS200",
         "78000.0",
         "Bangalore",
         "9900.0",
         "First Owner",
         "4.0",
         "200.0",
         "Bajaj"
        ],
        [
         "13",
         "Bajaj Discover 100M",
         "29499.0",
         "Delhi",
         "20000.0",
         "First Owner",
         "8.0",
         "100.0",
         "Bajaj"
        ],
        [
         "14",
         "Bajaj Discover 125M",
         "29900.0",
         "Delhi",
         "20000.0",
         "First Owner",
         "7.0",
         "125.0",
         "Bajaj"
        ],
        [
         "15",
         "Bajaj Pulsar NS200 ABS",
         "90000.0",
         "Bangalore",
         "11574.0",
         "First Owner",
         "3.0",
         "200.0",
         "Bajaj"
        ],
        [
         "16",
         "Bajaj Pulsar RS200 ABS",
         "120000.0",
         "Bangalore",
         "23000.0",
         "First Owner",
         "3.0",
         "200.0",
         "Bajaj"
        ],
        [
         "17",
         "Suzuki Gixxer SF 150cc",
         "48000.0",
         "Mumbai",
         "24725.0",
         "First Owner",
         "5.0",
         "150.0",
         "Suzuki"
        ],
        [
         "18",
         "Benelli 302R 300CC",
         "240000.0",
         "Mumbai",
         "15025.0",
         "Second Owner",
         "3.0",
         "302.0",
         "Benelli"
        ],
        [
         "22",
         "Hero Splendor iSmart Plus IBS 110cc",
         "46500.0",
         "Delhi",
         "3500.0",
         "First Owner",
         "2.0",
         "110.0",
         "Hero"
        ],
        [
         "23",
         "Royal Enfield Classic Chrome 500cc",
         "121700.0",
         "Kalyan",
         "24520.0",
         "First Owner",
         "5.0",
         "500.0",
         "Royal Enfield"
        ],
        [
         "24",
         "Yamaha FZ V 2.0 150cc",
         "45000.0",
         "Delhi",
         "23000.0",
         "First Owner",
         "6.0",
         "150.0",
         "Yamaha"
        ],
        [
         "26",
         "Hero Super Splendor 125cc",
         "20000.0",
         "Ahmedabad",
         "29305.0",
         "First Owner",
         "16.0",
         "125.0",
         "Hero"
        ],
        [
         "27",
         "Honda CBF Stunner 125cc",
         "20800.0",
         "Faridabad",
         "30500.0",
         "Second Owner",
         "7.0",
         "125.0",
         "Honda"
        ],
        [
         "28",
         "Bajaj Pulsar 150cc",
         "50000.0",
         "Bangalore",
         "19000.0",
         "First Owner",
         "8.0",
         "150.0",
         "Bajaj"
        ],
        [
         "29",
         "Honda X-Blade 160CC ABS",
         "81200.0",
         "Mettur",
         "9100.0",
         "First Owner",
         "2.0",
         "160.0",
         "Honda"
        ],
        [
         "30",
         "Bajaj Pulsar NS200",
         "88000.0",
         "Hyderabad",
         "21914.0",
         "First Owner",
         "3.0",
         "200.0",
         "Bajaj"
        ],
        [
         "31",
         "Yamaha YZF-R15 2.0 150cc",
         "80000.0",
         "Kaithal",
         "20000.0",
         "Second Owner",
         "4.0",
         "150.0",
         "Yamaha"
        ],
        [
         "32",
         "Bajaj Avenger 220cc",
         "40900.0",
         "Gurgaon",
         "15000.0",
         "First Owner",
         "6.0",
         "220.0",
         "Bajaj"
        ],
        [
         "33",
         "KTM RC 390cc",
         "180000.0",
         "Pune",
         "17700.0",
         "First Owner",
         "4.0",
         "390.0",
         "KTM"
        ],
        [
         "34",
         "Honda CB Unicorn 150cc",
         "40000.0",
         "Noida",
         "30000.0",
         "First Owner",
         "8.0",
         "150.0",
         "Honda"
        ],
        [
         "35",
         "KTM Duke 200cc",
         "70000.0",
         "Nashik",
         "100000.0",
         "Second Owner",
         "8.0",
         "200.0",
         "KTM"
        ],
        [
         "36",
         "Royal Enfield Classic 350cc",
         "98800.0",
         "Kochi",
         "39000.0",
         "First Owner",
         "5.0",
         "350.0",
         "Royal Enfield"
        ],
        [
         "37",
         "Honda CBR 150R 150cc",
         "65000.0",
         "Allahabad",
         "43000.0",
         "First Owner",
         "6.0",
         "150.0",
         "Honda"
        ],
        [
         "38",
         "Royal Enfield Thunderbird X 500cc",
         "190500.0",
         "Samastipur",
         "4550.0",
         "First Owner",
         "2.0",
         "500.0",
         "Royal Enfield"
        ],
        [
         "39",
         "KTM RC 200cc ABS",
         "179000.0",
         "Bangalore",
         "3400.0",
         "First Owner",
         "2.0",
         "200.0",
         "KTM"
        ],
        [
         "40",
         "Royal Enfield Thunderbird 350cc",
         "70000.0",
         "Nadiad",
         "45000.0",
         "First Owner",
         "8.0",
         "350.0",
         "Royal Enfield"
        ],
        [
         "41",
         "Bajaj Avenger 220cc",
         "45000.0",
         "Hyderabad",
         "36100.0",
         "First Owner",
         "6.0",
         "220.0",
         "Bajaj"
        ],
        [
         "42",
         "Royal Enfield Bullet Electra 350cc",
         "78000.0",
         "Lucknow",
         "8500.0",
         "First Owner",
         "13.0",
         "350.0",
         "Royal Enfield"
        ],
        [
         "43",
         "Bajaj Avenger Street 220 ABS",
         "110000.0",
         "Bangalore",
         "2550.0",
         "First Owner",
         "2.0",
         "220.0",
         "Bajaj"
        ],
        [
         "44",
         "Royal Enfield Classic 350cc",
         "85000.0",
         "Delhi",
         "18000.0",
         "First Owner",
         "6.0",
         "350.0",
         "Royal Enfield"
        ],
        [
         "45",
         "Bajaj Pulsar NS200",
         "38000.0",
         "Delhi",
         "35000.0",
         "First Owner",
         "9.0",
         "200.0",
         "Bajaj"
        ],
        [
         "46",
         "Royal Enfield Thunderbird 350cc",
         "55346.0",
         "Noida",
         "38000.0",
         "First Owner",
         "10.0",
         "350.0",
         "Royal Enfield"
        ],
        [
         "47",
         "Mahindra Centuro NXT 110cc",
         "28000.0",
         "Jaipur",
         "45000.0",
         "First Owner",
         "2.0",
         "110.0",
         "Mahindra"
        ],
        [
         "48",
         "Hero Hunk 150cc",
         "37000.0",
         "Mumbai",
         "10800.0",
         "First Owner",
         "8.0",
         "150.0",
         "Hero"
        ],
        [
         "49",
         "Suzuki Gixxer SF Fi 150cc SP ABS",
         "97000.0",
         "Delhi",
         "4400.0",
         "First Owner",
         "3.0",
         "150.0",
         "Suzuki"
        ],
        [
         "50",
         "Yamaha FZ 150cc",
         "40000.0",
         "Karnal",
         "357000.0",
         "First Owner",
         "8.0",
         "150.0",
         "Yamaha"
        ],
        [
         "51",
         "Royal Enfield‎ Bullet 350cc",
         "90000.0",
         "Delhi",
         "15300.0",
         "First Owner",
         "7.0",
         "350.0",
         "Royal Enfield"
        ],
        [
         "52",
         "TVS Apache RTR 160cc",
         "60000.0",
         "Mumbai",
         "30000.0",
         "First Owner",
         "5.0",
         "160.0",
         "TVS"
        ],
        [
         "53",
         "Honda CB Shine 125cc",
         "21900.0",
         "Gorakhpur",
         "30000.0",
         "Second Owner",
         "7.0",
         "125.0",
         "Honda"
        ]
       ],
       "shape": {
        "columns": 8,
        "rows": 7324
       }
      },
      "text/html": [
       "<div>\n",
       "<style scoped>\n",
       "    .dataframe tbody tr th:only-of-type {\n",
       "        vertical-align: middle;\n",
       "    }\n",
       "\n",
       "    .dataframe tbody tr th {\n",
       "        vertical-align: top;\n",
       "    }\n",
       "\n",
       "    .dataframe thead th {\n",
       "        text-align: right;\n",
       "    }\n",
       "</style>\n",
       "<table border=\"1\" class=\"dataframe\">\n",
       "  <thead>\n",
       "    <tr style=\"text-align: right;\">\n",
       "      <th></th>\n",
       "      <th>bike_name</th>\n",
       "      <th>price</th>\n",
       "      <th>city</th>\n",
       "      <th>kms_driven</th>\n",
       "      <th>owner</th>\n",
       "      <th>age</th>\n",
       "      <th>power</th>\n",
       "      <th>brand</th>\n",
       "    </tr>\n",
       "  </thead>\n",
       "  <tbody>\n",
       "    <tr>\n",
       "      <th>0</th>\n",
       "      <td>TVS Star City Plus Dual Tone 110cc</td>\n",
       "      <td>35000.0</td>\n",
       "      <td>Ahmedabad</td>\n",
       "      <td>17654.0</td>\n",
       "      <td>First Owner</td>\n",
       "      <td>3.0</td>\n",
       "      <td>110.0</td>\n",
       "      <td>TVS</td>\n",
       "    </tr>\n",
       "    <tr>\n",
       "      <th>1</th>\n",
       "      <td>Royal Enfield Classic 350cc</td>\n",
       "      <td>119900.0</td>\n",
       "      <td>Delhi</td>\n",
       "      <td>11000.0</td>\n",
       "      <td>First Owner</td>\n",
       "      <td>4.0</td>\n",
       "      <td>350.0</td>\n",
       "      <td>Royal Enfield</td>\n",
       "    </tr>\n",
       "    <tr>\n",
       "      <th>2</th>\n",
       "      <td>Triumph Daytona 675R</td>\n",
       "      <td>600000.0</td>\n",
       "      <td>Delhi</td>\n",
       "      <td>110.0</td>\n",
       "      <td>First Owner</td>\n",
       "      <td>8.0</td>\n",
       "      <td>675.0</td>\n",
       "      <td>Triumph</td>\n",
       "    </tr>\n",
       "    <tr>\n",
       "      <th>3</th>\n",
       "      <td>TVS Apache RTR 180cc</td>\n",
       "      <td>65000.0</td>\n",
       "      <td>Bangalore</td>\n",
       "      <td>16329.0</td>\n",
       "      <td>First Owner</td>\n",
       "      <td>4.0</td>\n",
       "      <td>180.0</td>\n",
       "      <td>TVS</td>\n",
       "    </tr>\n",
       "    <tr>\n",
       "      <th>4</th>\n",
       "      <td>Yamaha FZ S V 2.0 150cc-Ltd. Edition</td>\n",
       "      <td>80000.0</td>\n",
       "      <td>Bangalore</td>\n",
       "      <td>10000.0</td>\n",
       "      <td>First Owner</td>\n",
       "      <td>3.0</td>\n",
       "      <td>150.0</td>\n",
       "      <td>Yamaha</td>\n",
       "    </tr>\n",
       "    <tr>\n",
       "      <th>...</th>\n",
       "      <td>...</td>\n",
       "      <td>...</td>\n",
       "      <td>...</td>\n",
       "      <td>...</td>\n",
       "      <td>...</td>\n",
       "      <td>...</td>\n",
       "      <td>...</td>\n",
       "      <td>...</td>\n",
       "    </tr>\n",
       "    <tr>\n",
       "      <th>9362</th>\n",
       "      <td>Hero Hunk Rear Disc 150cc</td>\n",
       "      <td>25000.0</td>\n",
       "      <td>Delhi</td>\n",
       "      <td>48587.0</td>\n",
       "      <td>First Owner</td>\n",
       "      <td>8.0</td>\n",
       "      <td>150.0</td>\n",
       "      <td>Hero</td>\n",
       "    </tr>\n",
       "    <tr>\n",
       "      <th>9369</th>\n",
       "      <td>Bajaj Avenger 220cc</td>\n",
       "      <td>35000.0</td>\n",
       "      <td>Bangalore</td>\n",
       "      <td>60000.0</td>\n",
       "      <td>First Owner</td>\n",
       "      <td>9.0</td>\n",
       "      <td>220.0</td>\n",
       "      <td>Bajaj</td>\n",
       "    </tr>\n",
       "    <tr>\n",
       "      <th>9370</th>\n",
       "      <td>Harley-Davidson Street 750 ABS</td>\n",
       "      <td>450000.0</td>\n",
       "      <td>Jodhpur</td>\n",
       "      <td>3430.0</td>\n",
       "      <td>First Owner</td>\n",
       "      <td>4.0</td>\n",
       "      <td>750.0</td>\n",
       "      <td>Harley-Davidson</td>\n",
       "    </tr>\n",
       "    <tr>\n",
       "      <th>9371</th>\n",
       "      <td>Bajaj Dominar 400 ABS</td>\n",
       "      <td>139000.0</td>\n",
       "      <td>Hyderabad</td>\n",
       "      <td>21300.0</td>\n",
       "      <td>First Owner</td>\n",
       "      <td>4.0</td>\n",
       "      <td>400.0</td>\n",
       "      <td>Bajaj</td>\n",
       "    </tr>\n",
       "    <tr>\n",
       "      <th>9372</th>\n",
       "      <td>Bajaj Avenger Street 220</td>\n",
       "      <td>80000.0</td>\n",
       "      <td>Hyderabad</td>\n",
       "      <td>7127.0</td>\n",
       "      <td>First Owner</td>\n",
       "      <td>5.0</td>\n",
       "      <td>220.0</td>\n",
       "      <td>Bajaj</td>\n",
       "    </tr>\n",
       "  </tbody>\n",
       "</table>\n",
       "<p>7324 rows × 8 columns</p>\n",
       "</div>"
      ],
      "text/plain": [
       "                                 bike_name     price       city  kms_driven  \\\n",
       "0       TVS Star City Plus Dual Tone 110cc   35000.0  Ahmedabad     17654.0   \n",
       "1              Royal Enfield Classic 350cc  119900.0      Delhi     11000.0   \n",
       "2                     Triumph Daytona 675R  600000.0      Delhi       110.0   \n",
       "3                     TVS Apache RTR 180cc   65000.0  Bangalore     16329.0   \n",
       "4     Yamaha FZ S V 2.0 150cc-Ltd. Edition   80000.0  Bangalore     10000.0   \n",
       "...                                    ...       ...        ...         ...   \n",
       "9362             Hero Hunk Rear Disc 150cc   25000.0      Delhi     48587.0   \n",
       "9369                   Bajaj Avenger 220cc   35000.0  Bangalore     60000.0   \n",
       "9370        Harley-Davidson Street 750 ABS  450000.0    Jodhpur      3430.0   \n",
       "9371                 Bajaj Dominar 400 ABS  139000.0  Hyderabad     21300.0   \n",
       "9372              Bajaj Avenger Street 220   80000.0  Hyderabad      7127.0   \n",
       "\n",
       "            owner  age  power            brand  \n",
       "0     First Owner  3.0  110.0              TVS  \n",
       "1     First Owner  4.0  350.0    Royal Enfield  \n",
       "2     First Owner  8.0  675.0          Triumph  \n",
       "3     First Owner  4.0  180.0              TVS  \n",
       "4     First Owner  3.0  150.0           Yamaha  \n",
       "...           ...  ...    ...              ...  \n",
       "9362  First Owner  8.0  150.0             Hero  \n",
       "9369  First Owner  9.0  220.0            Bajaj  \n",
       "9370  First Owner  4.0  750.0  Harley-Davidson  \n",
       "9371  First Owner  4.0  400.0            Bajaj  \n",
       "9372  First Owner  5.0  220.0            Bajaj  \n",
       "\n",
       "[7324 rows x 8 columns]"
      ]
     },
     "execution_count": 20,
     "metadata": {},
     "output_type": "execute_result"
    }
   ],
   "source": [
    "#Deleting duplicate values.\n",
    "df.drop_duplicates(inplace=True)\n",
    "df\n"
   ]
  },
  {
   "cell_type": "code",
   "execution_count": 21,
   "metadata": {},
   "outputs": [
    {
     "data": {
      "text/plain": [
       "0"
      ]
     },
     "execution_count": 21,
     "metadata": {},
     "output_type": "execute_result"
    }
   ],
   "source": [
    "df.duplicated().sum()"
   ]
  },
  {
   "cell_type": "code",
   "execution_count": 22,
   "metadata": {},
   "outputs": [],
   "source": [
    "#Deleting null values.\n",
    "df.dropna(inplace=True)"
   ]
  },
  {
   "cell_type": "code",
   "execution_count": 23,
   "metadata": {},
   "outputs": [
    {
     "data": {
      "text/plain": [
       "bike_name     0\n",
       "price         0\n",
       "city          0\n",
       "kms_driven    0\n",
       "owner         0\n",
       "age           0\n",
       "power         0\n",
       "brand         0\n",
       "dtype: int64"
      ]
     },
     "execution_count": 23,
     "metadata": {},
     "output_type": "execute_result"
    }
   ],
   "source": [
    "#Sum of null values.\n",
    "df.isnull().sum()"
   ]
  },
  {
   "cell_type": "code",
   "execution_count": 24,
   "metadata": {},
   "outputs": [
    {
     "data": {
      "text/plain": [
       "7301"
      ]
     },
     "execution_count": 24,
     "metadata": {},
     "output_type": "execute_result"
    }
   ],
   "source": [
    "#Getting duplicates from a particular feature.\n",
    "df[\"brand\"].duplicated().sum()"
   ]
  },
  {
   "cell_type": "code",
   "execution_count": 25,
   "metadata": {},
   "outputs": [
    {
     "data": {
      "application/vnd.microsoft.datawrangler.viewer.v0+json": {
       "columns": [
        {
         "name": "index",
         "rawType": "int64",
         "type": "integer"
        },
        {
         "name": "bike_name",
         "rawType": "object",
         "type": "string"
        },
        {
         "name": "price",
         "rawType": "float64",
         "type": "float"
        },
        {
         "name": "city",
         "rawType": "object",
         "type": "string"
        },
        {
         "name": "kms_driven",
         "rawType": "float64",
         "type": "float"
        },
        {
         "name": "owner",
         "rawType": "object",
         "type": "string"
        },
        {
         "name": "age",
         "rawType": "float64",
         "type": "float"
        },
        {
         "name": "power",
         "rawType": "float64",
         "type": "float"
        },
        {
         "name": "brand",
         "rawType": "object",
         "type": "string"
        }
       ],
       "conversionMethod": "pd.DataFrame",
       "ref": "f586b264-83ca-400e-a027-15dc5774f243",
       "rows": [
        [
         "0",
         "TVS Star City Plus Dual Tone 110cc",
         "35000.0",
         "Ahmedabad",
         "17654.0",
         "First Owner",
         "3.0",
         "110.0",
         "TVS"
        ],
        [
         "1",
         "Royal Enfield Classic 350cc",
         "119900.0",
         "Delhi",
         "11000.0",
         "First Owner",
         "4.0",
         "350.0",
         "Royal Enfield"
        ],
        [
         "2",
         "Triumph Daytona 675R",
         "600000.0",
         "Delhi",
         "110.0",
         "First Owner",
         "8.0",
         "675.0",
         "Triumph"
        ],
        [
         "3",
         "TVS Apache RTR 180cc",
         "65000.0",
         "Bangalore",
         "16329.0",
         "First Owner",
         "4.0",
         "180.0",
         "TVS"
        ],
        [
         "4",
         "Yamaha FZ S V 2.0 150cc-Ltd. Edition",
         "80000.0",
         "Bangalore",
         "10000.0",
         "First Owner",
         "3.0",
         "150.0",
         "Yamaha"
        ],
        [
         "5",
         "Yamaha FZs 150cc",
         "53499.0",
         "Delhi",
         "25000.0",
         "First Owner",
         "6.0",
         "150.0",
         "Yamaha"
        ],
        [
         "6",
         "Honda CB Hornet 160R  ABS DLX",
         "85000.0",
         "Delhi",
         "8200.0",
         "First Owner",
         "3.0",
         "160.0",
         "Honda"
        ],
        [
         "7",
         "Hero Splendor Plus Self Alloy 100cc",
         "45000.0",
         "Delhi",
         "12645.0",
         "First Owner",
         "3.0",
         "100.0",
         "Hero"
        ],
        [
         "8",
         "Royal Enfield Thunderbird X 350cc",
         "145000.0",
         "Bangalore",
         "9190.0",
         "First Owner",
         "3.0",
         "350.0",
         "Royal Enfield"
        ],
        [
         "9",
         "Royal Enfield Classic Desert Storm 500cc",
         "88000.0",
         "Delhi",
         "19000.0",
         "Second Owner",
         "7.0",
         "500.0",
         "Royal Enfield"
        ],
        [
         "10",
         "Yamaha YZF-R15 2.0 150cc",
         "72000.0",
         "Bangalore",
         "20000.0",
         "First Owner",
         "7.0",
         "150.0",
         "Yamaha"
        ],
        [
         "11",
         "Yamaha FZ25 250cc",
         "95000.0",
         "Bangalore",
         "9665.0",
         "First Owner",
         "4.0",
         "250.0",
         "Yamaha"
        ],
        [
         "12",
         "Bajaj Pulsar NS200",
         "78000.0",
         "Bangalore",
         "9900.0",
         "First Owner",
         "4.0",
         "200.0",
         "Bajaj"
        ],
        [
         "13",
         "Bajaj Discover 100M",
         "29499.0",
         "Delhi",
         "20000.0",
         "First Owner",
         "8.0",
         "100.0",
         "Bajaj"
        ],
        [
         "14",
         "Bajaj Discover 125M",
         "29900.0",
         "Delhi",
         "20000.0",
         "First Owner",
         "7.0",
         "125.0",
         "Bajaj"
        ],
        [
         "15",
         "Bajaj Pulsar NS200 ABS",
         "90000.0",
         "Bangalore",
         "11574.0",
         "First Owner",
         "3.0",
         "200.0",
         "Bajaj"
        ],
        [
         "16",
         "Bajaj Pulsar RS200 ABS",
         "120000.0",
         "Bangalore",
         "23000.0",
         "First Owner",
         "3.0",
         "200.0",
         "Bajaj"
        ],
        [
         "17",
         "Suzuki Gixxer SF 150cc",
         "48000.0",
         "Mumbai",
         "24725.0",
         "First Owner",
         "5.0",
         "150.0",
         "Suzuki"
        ],
        [
         "18",
         "Benelli 302R 300CC",
         "240000.0",
         "Mumbai",
         "15025.0",
         "Second Owner",
         "3.0",
         "302.0",
         "Benelli"
        ],
        [
         "22",
         "Hero Splendor iSmart Plus IBS 110cc",
         "46500.0",
         "Delhi",
         "3500.0",
         "First Owner",
         "2.0",
         "110.0",
         "Hero"
        ],
        [
         "23",
         "Royal Enfield Classic Chrome 500cc",
         "121700.0",
         "Kalyan",
         "24520.0",
         "First Owner",
         "5.0",
         "500.0",
         "Royal Enfield"
        ],
        [
         "24",
         "Yamaha FZ V 2.0 150cc",
         "45000.0",
         "Delhi",
         "23000.0",
         "First Owner",
         "6.0",
         "150.0",
         "Yamaha"
        ],
        [
         "26",
         "Hero Super Splendor 125cc",
         "20000.0",
         "Ahmedabad",
         "29305.0",
         "First Owner",
         "16.0",
         "125.0",
         "Hero"
        ],
        [
         "27",
         "Honda CBF Stunner 125cc",
         "20800.0",
         "Faridabad",
         "30500.0",
         "Second Owner",
         "7.0",
         "125.0",
         "Honda"
        ],
        [
         "28",
         "Bajaj Pulsar 150cc",
         "50000.0",
         "Bangalore",
         "19000.0",
         "First Owner",
         "8.0",
         "150.0",
         "Bajaj"
        ],
        [
         "29",
         "Honda X-Blade 160CC ABS",
         "81200.0",
         "Mettur",
         "9100.0",
         "First Owner",
         "2.0",
         "160.0",
         "Honda"
        ],
        [
         "30",
         "Bajaj Pulsar NS200",
         "88000.0",
         "Hyderabad",
         "21914.0",
         "First Owner",
         "3.0",
         "200.0",
         "Bajaj"
        ],
        [
         "31",
         "Yamaha YZF-R15 2.0 150cc",
         "80000.0",
         "Kaithal",
         "20000.0",
         "Second Owner",
         "4.0",
         "150.0",
         "Yamaha"
        ],
        [
         "32",
         "Bajaj Avenger 220cc",
         "40900.0",
         "Gurgaon",
         "15000.0",
         "First Owner",
         "6.0",
         "220.0",
         "Bajaj"
        ],
        [
         "33",
         "KTM RC 390cc",
         "180000.0",
         "Pune",
         "17700.0",
         "First Owner",
         "4.0",
         "390.0",
         "KTM"
        ],
        [
         "34",
         "Honda CB Unicorn 150cc",
         "40000.0",
         "Noida",
         "30000.0",
         "First Owner",
         "8.0",
         "150.0",
         "Honda"
        ],
        [
         "35",
         "KTM Duke 200cc",
         "70000.0",
         "Nashik",
         "100000.0",
         "Second Owner",
         "8.0",
         "200.0",
         "KTM"
        ],
        [
         "36",
         "Royal Enfield Classic 350cc",
         "98800.0",
         "Kochi",
         "39000.0",
         "First Owner",
         "5.0",
         "350.0",
         "Royal Enfield"
        ],
        [
         "37",
         "Honda CBR 150R 150cc",
         "65000.0",
         "Allahabad",
         "43000.0",
         "First Owner",
         "6.0",
         "150.0",
         "Honda"
        ],
        [
         "38",
         "Royal Enfield Thunderbird X 500cc",
         "190500.0",
         "Samastipur",
         "4550.0",
         "First Owner",
         "2.0",
         "500.0",
         "Royal Enfield"
        ],
        [
         "39",
         "KTM RC 200cc ABS",
         "179000.0",
         "Bangalore",
         "3400.0",
         "First Owner",
         "2.0",
         "200.0",
         "KTM"
        ],
        [
         "40",
         "Royal Enfield Thunderbird 350cc",
         "70000.0",
         "Nadiad",
         "45000.0",
         "First Owner",
         "8.0",
         "350.0",
         "Royal Enfield"
        ],
        [
         "41",
         "Bajaj Avenger 220cc",
         "45000.0",
         "Hyderabad",
         "36100.0",
         "First Owner",
         "6.0",
         "220.0",
         "Bajaj"
        ],
        [
         "42",
         "Royal Enfield Bullet Electra 350cc",
         "78000.0",
         "Lucknow",
         "8500.0",
         "First Owner",
         "13.0",
         "350.0",
         "Royal Enfield"
        ],
        [
         "43",
         "Bajaj Avenger Street 220 ABS",
         "110000.0",
         "Bangalore",
         "2550.0",
         "First Owner",
         "2.0",
         "220.0",
         "Bajaj"
        ],
        [
         "44",
         "Royal Enfield Classic 350cc",
         "85000.0",
         "Delhi",
         "18000.0",
         "First Owner",
         "6.0",
         "350.0",
         "Royal Enfield"
        ],
        [
         "45",
         "Bajaj Pulsar NS200",
         "38000.0",
         "Delhi",
         "35000.0",
         "First Owner",
         "9.0",
         "200.0",
         "Bajaj"
        ],
        [
         "46",
         "Royal Enfield Thunderbird 350cc",
         "55346.0",
         "Noida",
         "38000.0",
         "First Owner",
         "10.0",
         "350.0",
         "Royal Enfield"
        ],
        [
         "47",
         "Mahindra Centuro NXT 110cc",
         "28000.0",
         "Jaipur",
         "45000.0",
         "First Owner",
         "2.0",
         "110.0",
         "Mahindra"
        ],
        [
         "48",
         "Hero Hunk 150cc",
         "37000.0",
         "Mumbai",
         "10800.0",
         "First Owner",
         "8.0",
         "150.0",
         "Hero"
        ],
        [
         "49",
         "Suzuki Gixxer SF Fi 150cc SP ABS",
         "97000.0",
         "Delhi",
         "4400.0",
         "First Owner",
         "3.0",
         "150.0",
         "Suzuki"
        ],
        [
         "50",
         "Yamaha FZ 150cc",
         "40000.0",
         "Karnal",
         "357000.0",
         "First Owner",
         "8.0",
         "150.0",
         "Yamaha"
        ],
        [
         "51",
         "Royal Enfield‎ Bullet 350cc",
         "90000.0",
         "Delhi",
         "15300.0",
         "First Owner",
         "7.0",
         "350.0",
         "Royal Enfield"
        ],
        [
         "52",
         "TVS Apache RTR 160cc",
         "60000.0",
         "Mumbai",
         "30000.0",
         "First Owner",
         "5.0",
         "160.0",
         "TVS"
        ],
        [
         "53",
         "Honda CB Shine 125cc",
         "21900.0",
         "Gorakhpur",
         "30000.0",
         "Second Owner",
         "7.0",
         "125.0",
         "Honda"
        ]
       ],
       "shape": {
        "columns": 8,
        "rows": 7324
       }
      },
      "text/html": [
       "<div>\n",
       "<style scoped>\n",
       "    .dataframe tbody tr th:only-of-type {\n",
       "        vertical-align: middle;\n",
       "    }\n",
       "\n",
       "    .dataframe tbody tr th {\n",
       "        vertical-align: top;\n",
       "    }\n",
       "\n",
       "    .dataframe thead th {\n",
       "        text-align: right;\n",
       "    }\n",
       "</style>\n",
       "<table border=\"1\" class=\"dataframe\">\n",
       "  <thead>\n",
       "    <tr style=\"text-align: right;\">\n",
       "      <th></th>\n",
       "      <th>bike_name</th>\n",
       "      <th>price</th>\n",
       "      <th>city</th>\n",
       "      <th>kms_driven</th>\n",
       "      <th>owner</th>\n",
       "      <th>age</th>\n",
       "      <th>power</th>\n",
       "      <th>brand</th>\n",
       "    </tr>\n",
       "  </thead>\n",
       "  <tbody>\n",
       "    <tr>\n",
       "      <th>0</th>\n",
       "      <td>TVS Star City Plus Dual Tone 110cc</td>\n",
       "      <td>35000.0</td>\n",
       "      <td>Ahmedabad</td>\n",
       "      <td>17654.0</td>\n",
       "      <td>First Owner</td>\n",
       "      <td>3.0</td>\n",
       "      <td>110.0</td>\n",
       "      <td>TVS</td>\n",
       "    </tr>\n",
       "    <tr>\n",
       "      <th>1</th>\n",
       "      <td>Royal Enfield Classic 350cc</td>\n",
       "      <td>119900.0</td>\n",
       "      <td>Delhi</td>\n",
       "      <td>11000.0</td>\n",
       "      <td>First Owner</td>\n",
       "      <td>4.0</td>\n",
       "      <td>350.0</td>\n",
       "      <td>Royal Enfield</td>\n",
       "    </tr>\n",
       "    <tr>\n",
       "      <th>2</th>\n",
       "      <td>Triumph Daytona 675R</td>\n",
       "      <td>600000.0</td>\n",
       "      <td>Delhi</td>\n",
       "      <td>110.0</td>\n",
       "      <td>First Owner</td>\n",
       "      <td>8.0</td>\n",
       "      <td>675.0</td>\n",
       "      <td>Triumph</td>\n",
       "    </tr>\n",
       "    <tr>\n",
       "      <th>3</th>\n",
       "      <td>TVS Apache RTR 180cc</td>\n",
       "      <td>65000.0</td>\n",
       "      <td>Bangalore</td>\n",
       "      <td>16329.0</td>\n",
       "      <td>First Owner</td>\n",
       "      <td>4.0</td>\n",
       "      <td>180.0</td>\n",
       "      <td>TVS</td>\n",
       "    </tr>\n",
       "    <tr>\n",
       "      <th>4</th>\n",
       "      <td>Yamaha FZ S V 2.0 150cc-Ltd. Edition</td>\n",
       "      <td>80000.0</td>\n",
       "      <td>Bangalore</td>\n",
       "      <td>10000.0</td>\n",
       "      <td>First Owner</td>\n",
       "      <td>3.0</td>\n",
       "      <td>150.0</td>\n",
       "      <td>Yamaha</td>\n",
       "    </tr>\n",
       "    <tr>\n",
       "      <th>...</th>\n",
       "      <td>...</td>\n",
       "      <td>...</td>\n",
       "      <td>...</td>\n",
       "      <td>...</td>\n",
       "      <td>...</td>\n",
       "      <td>...</td>\n",
       "      <td>...</td>\n",
       "      <td>...</td>\n",
       "    </tr>\n",
       "    <tr>\n",
       "      <th>9362</th>\n",
       "      <td>Hero Hunk Rear Disc 150cc</td>\n",
       "      <td>25000.0</td>\n",
       "      <td>Delhi</td>\n",
       "      <td>48587.0</td>\n",
       "      <td>First Owner</td>\n",
       "      <td>8.0</td>\n",
       "      <td>150.0</td>\n",
       "      <td>Hero</td>\n",
       "    </tr>\n",
       "    <tr>\n",
       "      <th>9369</th>\n",
       "      <td>Bajaj Avenger 220cc</td>\n",
       "      <td>35000.0</td>\n",
       "      <td>Bangalore</td>\n",
       "      <td>60000.0</td>\n",
       "      <td>First Owner</td>\n",
       "      <td>9.0</td>\n",
       "      <td>220.0</td>\n",
       "      <td>Bajaj</td>\n",
       "    </tr>\n",
       "    <tr>\n",
       "      <th>9370</th>\n",
       "      <td>Harley-Davidson Street 750 ABS</td>\n",
       "      <td>450000.0</td>\n",
       "      <td>Jodhpur</td>\n",
       "      <td>3430.0</td>\n",
       "      <td>First Owner</td>\n",
       "      <td>4.0</td>\n",
       "      <td>750.0</td>\n",
       "      <td>Harley-Davidson</td>\n",
       "    </tr>\n",
       "    <tr>\n",
       "      <th>9371</th>\n",
       "      <td>Bajaj Dominar 400 ABS</td>\n",
       "      <td>139000.0</td>\n",
       "      <td>Hyderabad</td>\n",
       "      <td>21300.0</td>\n",
       "      <td>First Owner</td>\n",
       "      <td>4.0</td>\n",
       "      <td>400.0</td>\n",
       "      <td>Bajaj</td>\n",
       "    </tr>\n",
       "    <tr>\n",
       "      <th>9372</th>\n",
       "      <td>Bajaj Avenger Street 220</td>\n",
       "      <td>80000.0</td>\n",
       "      <td>Hyderabad</td>\n",
       "      <td>7127.0</td>\n",
       "      <td>First Owner</td>\n",
       "      <td>5.0</td>\n",
       "      <td>220.0</td>\n",
       "      <td>Bajaj</td>\n",
       "    </tr>\n",
       "  </tbody>\n",
       "</table>\n",
       "<p>7324 rows × 8 columns</p>\n",
       "</div>"
      ],
      "text/plain": [
       "                                 bike_name     price       city  kms_driven  \\\n",
       "0       TVS Star City Plus Dual Tone 110cc   35000.0  Ahmedabad     17654.0   \n",
       "1              Royal Enfield Classic 350cc  119900.0      Delhi     11000.0   \n",
       "2                     Triumph Daytona 675R  600000.0      Delhi       110.0   \n",
       "3                     TVS Apache RTR 180cc   65000.0  Bangalore     16329.0   \n",
       "4     Yamaha FZ S V 2.0 150cc-Ltd. Edition   80000.0  Bangalore     10000.0   \n",
       "...                                    ...       ...        ...         ...   \n",
       "9362             Hero Hunk Rear Disc 150cc   25000.0      Delhi     48587.0   \n",
       "9369                   Bajaj Avenger 220cc   35000.0  Bangalore     60000.0   \n",
       "9370        Harley-Davidson Street 750 ABS  450000.0    Jodhpur      3430.0   \n",
       "9371                 Bajaj Dominar 400 ABS  139000.0  Hyderabad     21300.0   \n",
       "9372              Bajaj Avenger Street 220   80000.0  Hyderabad      7127.0   \n",
       "\n",
       "            owner  age  power            brand  \n",
       "0     First Owner  3.0  110.0              TVS  \n",
       "1     First Owner  4.0  350.0    Royal Enfield  \n",
       "2     First Owner  8.0  675.0          Triumph  \n",
       "3     First Owner  4.0  180.0              TVS  \n",
       "4     First Owner  3.0  150.0           Yamaha  \n",
       "...           ...  ...    ...              ...  \n",
       "9362  First Owner  8.0  150.0             Hero  \n",
       "9369  First Owner  9.0  220.0            Bajaj  \n",
       "9370  First Owner  4.0  750.0  Harley-Davidson  \n",
       "9371  First Owner  4.0  400.0            Bajaj  \n",
       "9372  First Owner  5.0  220.0            Bajaj  \n",
       "\n",
       "[7324 rows x 8 columns]"
      ]
     },
     "execution_count": 25,
     "metadata": {},
     "output_type": "execute_result"
    }
   ],
   "source": [
    "#fill null values\n",
    "df.fillna(\"hello\")"
   ]
  },
  {
   "cell_type": "code",
   "execution_count": 26,
   "metadata": {},
   "outputs": [
    {
     "data": {
      "text/plain": [
       "'BMW'"
      ]
     },
     "execution_count": 26,
     "metadata": {},
     "output_type": "execute_result"
    }
   ],
   "source": [
    "df[\"brand\"].min()"
   ]
  },
  {
   "cell_type": "code",
   "execution_count": 27,
   "metadata": {},
   "outputs": [
    {
     "data": {
      "text/plain": [
       "0        35000.0\n",
       "1       119900.0\n",
       "2       600000.0\n",
       "3        65000.0\n",
       "4        80000.0\n",
       "          ...   \n",
       "9362     25000.0\n",
       "9369     35000.0\n",
       "9370    450000.0\n",
       "9371    139000.0\n",
       "9372     80000.0\n",
       "Name: price, Length: 7324, dtype: float64"
      ]
     },
     "execution_count": 27,
     "metadata": {},
     "output_type": "execute_result"
    }
   ],
   "source": [
    "df[\"price\"].fillna(df[\"price\"].mean())"
   ]
  },
  {
   "cell_type": "code",
   "execution_count": 28,
   "metadata": {},
   "outputs": [
    {
     "data": {
      "application/vnd.microsoft.datawrangler.viewer.v0+json": {
       "columns": [
        {
         "name": "index",
         "rawType": "int64",
         "type": "integer"
        },
        {
         "name": "bike_name",
         "rawType": "object",
         "type": "string"
        },
        {
         "name": "price",
         "rawType": "float64",
         "type": "float"
        },
        {
         "name": "city",
         "rawType": "object",
         "type": "string"
        },
        {
         "name": "kms_driven",
         "rawType": "float64",
         "type": "float"
        },
        {
         "name": "owner",
         "rawType": "object",
         "type": "string"
        },
        {
         "name": "age",
         "rawType": "float64",
         "type": "float"
        },
        {
         "name": "power",
         "rawType": "float64",
         "type": "float"
        },
        {
         "name": "brand",
         "rawType": "object",
         "type": "string"
        }
       ],
       "conversionMethod": "pd.DataFrame",
       "ref": "50a60086-f1dc-4a9c-a70d-d7a0bba819be",
       "rows": [
        [
         "0",
         "TVS Star City Plus Dual Tone 110cc",
         "35000.0",
         "Ahmedabad",
         "17654.0",
         "First Owner",
         "3.0",
         "110.0",
         "TVS"
        ],
        [
         "1",
         "Royal Enfield Classic 350cc",
         "119900.0",
         "Delhi",
         "11000.0",
         "First Owner",
         "4.0",
         "350.0",
         "Royal Enfield"
        ],
        [
         "2",
         "Triumph Daytona 675R",
         "600000.0",
         "Delhi",
         "110.0",
         "First Owner",
         "8.0",
         "675.0",
         "Triumph"
        ],
        [
         "3",
         "TVS Apache RTR 180cc",
         "65000.0",
         "Bangalore",
         "16329.0",
         "First Owner",
         "4.0",
         "180.0",
         "TVS"
        ],
        [
         "4",
         "Yamaha FZ S V 2.0 150cc-Ltd. Edition",
         "80000.0",
         "Bangalore",
         "10000.0",
         "First Owner",
         "3.0",
         "150.0",
         "Yamaha"
        ],
        [
         "5",
         "Yamaha FZs 150cc",
         "53499.0",
         "Delhi",
         "25000.0",
         "First Owner",
         "6.0",
         "150.0",
         "Yamaha"
        ],
        [
         "6",
         "Honda CB Hornet 160R  ABS DLX",
         "85000.0",
         "Delhi",
         "8200.0",
         "First Owner",
         "3.0",
         "160.0",
         "Honda"
        ]
       ],
       "shape": {
        "columns": 8,
        "rows": 7
       }
      },
      "text/html": [
       "<div>\n",
       "<style scoped>\n",
       "    .dataframe tbody tr th:only-of-type {\n",
       "        vertical-align: middle;\n",
       "    }\n",
       "\n",
       "    .dataframe tbody tr th {\n",
       "        vertical-align: top;\n",
       "    }\n",
       "\n",
       "    .dataframe thead th {\n",
       "        text-align: right;\n",
       "    }\n",
       "</style>\n",
       "<table border=\"1\" class=\"dataframe\">\n",
       "  <thead>\n",
       "    <tr style=\"text-align: right;\">\n",
       "      <th></th>\n",
       "      <th>bike_name</th>\n",
       "      <th>price</th>\n",
       "      <th>city</th>\n",
       "      <th>kms_driven</th>\n",
       "      <th>owner</th>\n",
       "      <th>age</th>\n",
       "      <th>power</th>\n",
       "      <th>brand</th>\n",
       "    </tr>\n",
       "  </thead>\n",
       "  <tbody>\n",
       "    <tr>\n",
       "      <th>0</th>\n",
       "      <td>TVS Star City Plus Dual Tone 110cc</td>\n",
       "      <td>35000.0</td>\n",
       "      <td>Ahmedabad</td>\n",
       "      <td>17654.0</td>\n",
       "      <td>First Owner</td>\n",
       "      <td>3.0</td>\n",
       "      <td>110.0</td>\n",
       "      <td>TVS</td>\n",
       "    </tr>\n",
       "    <tr>\n",
       "      <th>1</th>\n",
       "      <td>Royal Enfield Classic 350cc</td>\n",
       "      <td>119900.0</td>\n",
       "      <td>Delhi</td>\n",
       "      <td>11000.0</td>\n",
       "      <td>First Owner</td>\n",
       "      <td>4.0</td>\n",
       "      <td>350.0</td>\n",
       "      <td>Royal Enfield</td>\n",
       "    </tr>\n",
       "    <tr>\n",
       "      <th>2</th>\n",
       "      <td>Triumph Daytona 675R</td>\n",
       "      <td>600000.0</td>\n",
       "      <td>Delhi</td>\n",
       "      <td>110.0</td>\n",
       "      <td>First Owner</td>\n",
       "      <td>8.0</td>\n",
       "      <td>675.0</td>\n",
       "      <td>Triumph</td>\n",
       "    </tr>\n",
       "    <tr>\n",
       "      <th>3</th>\n",
       "      <td>TVS Apache RTR 180cc</td>\n",
       "      <td>65000.0</td>\n",
       "      <td>Bangalore</td>\n",
       "      <td>16329.0</td>\n",
       "      <td>First Owner</td>\n",
       "      <td>4.0</td>\n",
       "      <td>180.0</td>\n",
       "      <td>TVS</td>\n",
       "    </tr>\n",
       "    <tr>\n",
       "      <th>4</th>\n",
       "      <td>Yamaha FZ S V 2.0 150cc-Ltd. Edition</td>\n",
       "      <td>80000.0</td>\n",
       "      <td>Bangalore</td>\n",
       "      <td>10000.0</td>\n",
       "      <td>First Owner</td>\n",
       "      <td>3.0</td>\n",
       "      <td>150.0</td>\n",
       "      <td>Yamaha</td>\n",
       "    </tr>\n",
       "    <tr>\n",
       "      <th>5</th>\n",
       "      <td>Yamaha FZs 150cc</td>\n",
       "      <td>53499.0</td>\n",
       "      <td>Delhi</td>\n",
       "      <td>25000.0</td>\n",
       "      <td>First Owner</td>\n",
       "      <td>6.0</td>\n",
       "      <td>150.0</td>\n",
       "      <td>Yamaha</td>\n",
       "    </tr>\n",
       "    <tr>\n",
       "      <th>6</th>\n",
       "      <td>Honda CB Hornet 160R  ABS DLX</td>\n",
       "      <td>85000.0</td>\n",
       "      <td>Delhi</td>\n",
       "      <td>8200.0</td>\n",
       "      <td>First Owner</td>\n",
       "      <td>3.0</td>\n",
       "      <td>160.0</td>\n",
       "      <td>Honda</td>\n",
       "    </tr>\n",
       "  </tbody>\n",
       "</table>\n",
       "</div>"
      ],
      "text/plain": [
       "                              bike_name     price       city  kms_driven  \\\n",
       "0    TVS Star City Plus Dual Tone 110cc   35000.0  Ahmedabad     17654.0   \n",
       "1           Royal Enfield Classic 350cc  119900.0      Delhi     11000.0   \n",
       "2                  Triumph Daytona 675R  600000.0      Delhi       110.0   \n",
       "3                  TVS Apache RTR 180cc   65000.0  Bangalore     16329.0   \n",
       "4  Yamaha FZ S V 2.0 150cc-Ltd. Edition   80000.0  Bangalore     10000.0   \n",
       "5                      Yamaha FZs 150cc   53499.0      Delhi     25000.0   \n",
       "6         Honda CB Hornet 160R  ABS DLX   85000.0      Delhi      8200.0   \n",
       "\n",
       "         owner  age  power          brand  \n",
       "0  First Owner  3.0  110.0            TVS  \n",
       "1  First Owner  4.0  350.0  Royal Enfield  \n",
       "2  First Owner  8.0  675.0        Triumph  \n",
       "3  First Owner  4.0  180.0            TVS  \n",
       "4  First Owner  3.0  150.0         Yamaha  \n",
       "5  First Owner  6.0  150.0         Yamaha  \n",
       "6  First Owner  3.0  160.0          Honda  "
      ]
     },
     "execution_count": 28,
     "metadata": {},
     "output_type": "execute_result"
    }
   ],
   "source": [
    "#Changing the name of a feature/column.\n",
    "df.rename(columns={\"km_driven\":\"kitni_chali_h\"}, inplace=True)\n",
    "df.head(7)"
   ]
  },
  {
   "cell_type": "code",
   "execution_count": 29,
   "metadata": {},
   "outputs": [
    {
     "data": {
      "application/vnd.microsoft.datawrangler.viewer.v0+json": {
       "columns": [
        {
         "name": "index",
         "rawType": "int64",
         "type": "integer"
        },
        {
         "name": "bike_name",
         "rawType": "object",
         "type": "string"
        },
        {
         "name": "price",
         "rawType": "float64",
         "type": "float"
        },
        {
         "name": "city",
         "rawType": "object",
         "type": "string"
        },
        {
         "name": "kms_driven",
         "rawType": "float64",
         "type": "float"
        },
        {
         "name": "owner",
         "rawType": "object",
         "type": "string"
        },
        {
         "name": "age",
         "rawType": "float64",
         "type": "float"
        },
        {
         "name": "power",
         "rawType": "float64",
         "type": "float"
        },
        {
         "name": "brand",
         "rawType": "object",
         "type": "string"
        }
       ],
       "conversionMethod": "pd.DataFrame",
       "ref": "d6e339d5-2798-468e-9a52-65e47f63d71d",
       "rows": [
        [
         "9372",
         "Bajaj Avenger Street 220",
         "80000.0",
         "Hyderabad",
         "7127.0",
         "First Owner",
         "5.0",
         "220.0",
         "Bajaj"
        ],
        [
         "9371",
         "Bajaj Dominar 400 ABS",
         "139000.0",
         "Hyderabad",
         "21300.0",
         "First Owner",
         "4.0",
         "400.0",
         "Bajaj"
        ],
        [
         "9370",
         "Harley-Davidson Street 750 ABS",
         "450000.0",
         "Jodhpur",
         "3430.0",
         "First Owner",
         "4.0",
         "750.0",
         "Harley-Davidson"
        ],
        [
         "9369",
         "Bajaj Avenger 220cc",
         "35000.0",
         "Bangalore",
         "60000.0",
         "First Owner",
         "9.0",
         "220.0",
         "Bajaj"
        ],
        [
         "9362",
         "Hero Hunk Rear Disc 150cc",
         "25000.0",
         "Delhi",
         "48587.0",
         "First Owner",
         "8.0",
         "150.0",
         "Hero"
        ],
        [
         "9361",
         "Bajaj Avenger 220cc",
         "50000.0",
         "Bangalore",
         "29134.0",
         "First Owner",
         "7.0",
         "220.0",
         "Bajaj"
        ],
        [
         "9360",
         "Bajaj Pulsar NS200",
         "48000.0",
         "Allahabad",
         "41939.0",
         "First Owner",
         "8.0",
         "200.0",
         "Bajaj"
        ],
        [
         "9350",
         "Bajaj Pulsar NS200",
         "46000.0",
         "Bangalore",
         "27687.0",
         "Third Owner",
         "9.0",
         "200.0",
         "Bajaj"
        ],
        [
         "9349",
         "Bajaj Pulsar  180cc",
         "55000.0",
         "Pune",
         "10000.0",
         "First Owner",
         "6.0",
         "180.0",
         "Bajaj"
        ],
        [
         "9348",
         "KTM Duke 390cc",
         "195000.0",
         "Mumbai",
         "4568.0",
         "First Owner",
         "4.0",
         "390.0",
         "KTM"
        ],
        [
         "9347",
         "Bajaj Discover 125cc",
         "14000.0",
         "Mumbai",
         "39211.0",
         "First Owner",
         "16.0",
         "125.0",
         "Bajaj"
        ],
        [
         "9346",
         "Honda CBR 150R 150cc",
         "61483.0",
         "Kanpur",
         "28032.0",
         "First Owner",
         "7.0",
         "150.0",
         "Honda"
        ],
        [
         "9345",
         "Yamaha Fazer FI V 2.0 150cc",
         "78000.0",
         "Kanchipuram",
         "7500.0",
         "First Owner",
         "3.0",
         "150.0",
         "Yamaha"
        ],
        [
         "9344",
         "Royal Enfield Bullet Twinspark 350cc",
         "80000.0",
         "Delhi",
         "56968.0",
         "First Owner",
         "8.0",
         "350.0",
         "Royal Enfield"
        ],
        [
         "9343",
         "Hero Passion Plus 100cc",
         "24000.0",
         "Hyderabad",
         "68000.0",
         "First Owner",
         "14.0",
         "100.0",
         "Hero"
        ],
        [
         "9342",
         "Yamaha SZ RR V 2.0 150cc Limited Edition",
         "55000.0",
         "Pune",
         "6138.0",
         "First Owner",
         "4.0",
         "150.0",
         "Yamaha"
        ],
        [
         "9341",
         "Hero CD Deluxe 100cc",
         "25000.0",
         "Sidhi",
         "11122.0",
         "First Owner",
         "11.0",
         "100.0",
         "Hero"
        ],
        [
         "9340",
         "Honda CB Trigger 150cc",
         "34400.0",
         "Delhi",
         "24513.0",
         "Second Owner",
         "8.0",
         "150.0",
         "Honda"
        ],
        [
         "9339",
         "Hero Splendor Plus 100cc",
         "11400.0",
         "Gurgaon",
         "20000.0",
         "Second Owner",
         "17.0",
         "100.0",
         "Hero"
        ],
        [
         "9338",
         "Royal Enfield Himalayan 410cc",
         "138000.0",
         "Delhi",
         "5000.0",
         "First Owner",
         "5.0",
         "410.0",
         "Royal Enfield"
        ],
        [
         "9337",
         "Royal Enfield Himalayan 410cc",
         "120000.0",
         "Gurgaon",
         "8492.0",
         "First Owner",
         "5.0",
         "410.0",
         "Royal Enfield"
        ],
        [
         "9336",
         "Yamaha YZF-R3 320cc",
         "220000.0",
         "Delhi",
         "7130.0",
         "First Owner",
         "5.0",
         "320.0",
         "Yamaha"
        ],
        [
         "9322",
         "TVS Radeon 110cc Drum SBT",
         "58000.0",
         "Delhi",
         "4020.0",
         "First Owner",
         "2.0",
         "110.0",
         "TVS"
        ],
        [
         "9321",
         "Bajaj Discover 100cc",
         "25000.0",
         "Faridabad",
         "80517.0",
         "First Owner",
         "9.0",
         "100.0",
         "Bajaj"
        ],
        [
         "9320",
         "TVS Apache 150cc",
         "20000.0",
         "Hissar",
         "84916.0",
         "First Owner",
         "14.0",
         "150.0",
         "TVS"
        ],
        [
         "9319",
         "Royal Enfield Classic 350cc",
         "100000.0",
         "Chennai",
         "25000.0",
         "First Owner",
         "10.0",
         "350.0",
         "Royal Enfield"
        ],
        [
         "9318",
         "Yamaha Fazer 150cc",
         "37000.0",
         "Delhi",
         "77596.0",
         "First Owner",
         "8.0",
         "150.0",
         "Yamaha"
        ],
        [
         "9317",
         "Bajaj V15 150cc",
         "50000.0",
         "Bangalore",
         "16674.0",
         "First Owner",
         "4.0",
         "150.0",
         "Bajaj"
        ],
        [
         "9316",
         "Hero Glamour Fi 125cc",
         "37000.0",
         "Delhi",
         "28478.0",
         "First Owner",
         "5.0",
         "125.0",
         "Hero"
        ],
        [
         "9315",
         "Hero CD Deluxe 100cc",
         "20000.0",
         "Lucknow",
         "5000.0",
         "First Owner",
         "10.0",
         "100.0",
         "Hero"
        ],
        [
         "9314",
         "Bajaj Pulsar 150cc",
         "26000.0",
         "Lucknow",
         "70000.0",
         "First Owner",
         "11.0",
         "150.0",
         "Bajaj"
        ],
        [
         "9313",
         "Bajaj V15 150cc",
         "42000.0",
         "Mumbai",
         "16539.0",
         "First Owner",
         "5.0",
         "150.0",
         "Bajaj"
        ],
        [
         "9312",
         "TVS Apache RTR 200 4V FI",
         "65450.0",
         "Delhi",
         "9238.0",
         "First Owner",
         "3.0",
         "200.0",
         "TVS"
        ],
        [
         "9307",
         "TVS Apache RTR 160cc",
         "30000.0",
         "Alibag",
         "30000.0",
         "First Owner",
         "10.0",
         "160.0",
         "TVS"
        ],
        [
         "9306",
         "Bajaj Pulsar AS150",
         "60000.0",
         "Mumbai",
         "4150.0",
         "First Owner",
         "6.0",
         "150.0",
         "Bajaj"
        ],
        [
         "9284",
         "Yamaha FZ25 250cc",
         "115800.0",
         "Delhi",
         "2126.0",
         "First Owner",
         "3.0",
         "250.0",
         "Yamaha"
        ],
        [
         "9283",
         "Bajaj Pulsar RS200",
         "120000.0",
         "Gurgaon",
         "5600.0",
         "First Owner",
         "4.0",
         "200.0",
         "Bajaj"
        ],
        [
         "9282",
         "KTM Duke 390cc",
         "139100.0",
         "Delhi",
         "25500.0",
         "First Owner",
         "5.0",
         "390.0",
         "KTM"
        ],
        [
         "9281",
         "Suzuki Gixxer SF 150cc Rear Disc",
         "63000.0",
         "Bangalore",
         "19100.0",
         "First Owner",
         "5.0",
         "150.0",
         "Suzuki"
        ],
        [
         "9280",
         "Hero Passion Xpro 110cc",
         "50000.0",
         "Ahmedabad",
         "7500.0",
         "First Owner",
         "5.0",
         "110.0",
         "Hero"
        ],
        [
         "9275",
         "Hero Splendor Plus 100cc",
         "20000.0",
         "Sirsa",
         "20003.0",
         "First Owner",
         "10.0",
         "100.0",
         "Hero"
        ],
        [
         "9274",
         "Harley-Davidson Iron 883",
         "511000.0",
         "Pune",
         "10400.0",
         "First Owner",
         "8.0",
         "883.0",
         "Harley-Davidson"
        ],
        [
         "9261",
         "Royal Enfield Classic 500cc",
         "146006.0",
         "Guwahati",
         "8575.0",
         "First Owner",
         "4.0",
         "500.0",
         "Royal Enfield"
        ],
        [
         "9260",
         "Honda CBR 250R Repsol ABS",
         "120000.0",
         "Noida",
         "14000.0",
         "Second Owner",
         "4.0",
         "250.0",
         "Honda"
        ],
        [
         "9259",
         "Yamaha Saluto RX 110cc",
         "37000.0",
         "Jaipur",
         "8030.0",
         "First Owner",
         "4.0",
         "110.0",
         "Yamaha"
        ],
        [
         "9258",
         "Honda CB Unicorn 160",
         "65000.0",
         "Mumbai",
         "18000.0",
         "First Owner",
         "6.0",
         "160.0",
         "Honda"
        ],
        [
         "9257",
         "Bajaj Pulsar RS200 ABS",
         "95000.0",
         "Pune",
         "16725.0",
         "First Owner",
         "5.0",
         "200.0",
         "Bajaj"
        ],
        [
         "9256",
         "Bajaj Pulsar RS200",
         "95000.0",
         "Bangalore",
         "25000.0",
         "First Owner",
         "6.0",
         "200.0",
         "Bajaj"
        ],
        [
         "9255",
         "KTM Duke 125cc",
         "135000.0",
         "Bangalore",
         "1050.0",
         "First Owner",
         "3.0",
         "125.0",
         "KTM"
        ],
        [
         "9254",
         "Royal Enfield Classic Chrome 500cc",
         "105000.0",
         "Gurgaon",
         "15008.0",
         "First Owner",
         "9.0",
         "500.0",
         "Royal Enfield"
        ]
       ],
       "shape": {
        "columns": 8,
        "rows": 7324
       }
      },
      "text/html": [
       "<div>\n",
       "<style scoped>\n",
       "    .dataframe tbody tr th:only-of-type {\n",
       "        vertical-align: middle;\n",
       "    }\n",
       "\n",
       "    .dataframe tbody tr th {\n",
       "        vertical-align: top;\n",
       "    }\n",
       "\n",
       "    .dataframe thead th {\n",
       "        text-align: right;\n",
       "    }\n",
       "</style>\n",
       "<table border=\"1\" class=\"dataframe\">\n",
       "  <thead>\n",
       "    <tr style=\"text-align: right;\">\n",
       "      <th></th>\n",
       "      <th>bike_name</th>\n",
       "      <th>price</th>\n",
       "      <th>city</th>\n",
       "      <th>kms_driven</th>\n",
       "      <th>owner</th>\n",
       "      <th>age</th>\n",
       "      <th>power</th>\n",
       "      <th>brand</th>\n",
       "    </tr>\n",
       "  </thead>\n",
       "  <tbody>\n",
       "    <tr>\n",
       "      <th>9372</th>\n",
       "      <td>Bajaj Avenger Street 220</td>\n",
       "      <td>80000.0</td>\n",
       "      <td>Hyderabad</td>\n",
       "      <td>7127.0</td>\n",
       "      <td>First Owner</td>\n",
       "      <td>5.0</td>\n",
       "      <td>220.0</td>\n",
       "      <td>Bajaj</td>\n",
       "    </tr>\n",
       "    <tr>\n",
       "      <th>9371</th>\n",
       "      <td>Bajaj Dominar 400 ABS</td>\n",
       "      <td>139000.0</td>\n",
       "      <td>Hyderabad</td>\n",
       "      <td>21300.0</td>\n",
       "      <td>First Owner</td>\n",
       "      <td>4.0</td>\n",
       "      <td>400.0</td>\n",
       "      <td>Bajaj</td>\n",
       "    </tr>\n",
       "    <tr>\n",
       "      <th>9370</th>\n",
       "      <td>Harley-Davidson Street 750 ABS</td>\n",
       "      <td>450000.0</td>\n",
       "      <td>Jodhpur</td>\n",
       "      <td>3430.0</td>\n",
       "      <td>First Owner</td>\n",
       "      <td>4.0</td>\n",
       "      <td>750.0</td>\n",
       "      <td>Harley-Davidson</td>\n",
       "    </tr>\n",
       "    <tr>\n",
       "      <th>9369</th>\n",
       "      <td>Bajaj Avenger 220cc</td>\n",
       "      <td>35000.0</td>\n",
       "      <td>Bangalore</td>\n",
       "      <td>60000.0</td>\n",
       "      <td>First Owner</td>\n",
       "      <td>9.0</td>\n",
       "      <td>220.0</td>\n",
       "      <td>Bajaj</td>\n",
       "    </tr>\n",
       "    <tr>\n",
       "      <th>9362</th>\n",
       "      <td>Hero Hunk Rear Disc 150cc</td>\n",
       "      <td>25000.0</td>\n",
       "      <td>Delhi</td>\n",
       "      <td>48587.0</td>\n",
       "      <td>First Owner</td>\n",
       "      <td>8.0</td>\n",
       "      <td>150.0</td>\n",
       "      <td>Hero</td>\n",
       "    </tr>\n",
       "    <tr>\n",
       "      <th>...</th>\n",
       "      <td>...</td>\n",
       "      <td>...</td>\n",
       "      <td>...</td>\n",
       "      <td>...</td>\n",
       "      <td>...</td>\n",
       "      <td>...</td>\n",
       "      <td>...</td>\n",
       "      <td>...</td>\n",
       "    </tr>\n",
       "    <tr>\n",
       "      <th>4</th>\n",
       "      <td>Yamaha FZ S V 2.0 150cc-Ltd. Edition</td>\n",
       "      <td>80000.0</td>\n",
       "      <td>Bangalore</td>\n",
       "      <td>10000.0</td>\n",
       "      <td>First Owner</td>\n",
       "      <td>3.0</td>\n",
       "      <td>150.0</td>\n",
       "      <td>Yamaha</td>\n",
       "    </tr>\n",
       "    <tr>\n",
       "      <th>3</th>\n",
       "      <td>TVS Apache RTR 180cc</td>\n",
       "      <td>65000.0</td>\n",
       "      <td>Bangalore</td>\n",
       "      <td>16329.0</td>\n",
       "      <td>First Owner</td>\n",
       "      <td>4.0</td>\n",
       "      <td>180.0</td>\n",
       "      <td>TVS</td>\n",
       "    </tr>\n",
       "    <tr>\n",
       "      <th>2</th>\n",
       "      <td>Triumph Daytona 675R</td>\n",
       "      <td>600000.0</td>\n",
       "      <td>Delhi</td>\n",
       "      <td>110.0</td>\n",
       "      <td>First Owner</td>\n",
       "      <td>8.0</td>\n",
       "      <td>675.0</td>\n",
       "      <td>Triumph</td>\n",
       "    </tr>\n",
       "    <tr>\n",
       "      <th>1</th>\n",
       "      <td>Royal Enfield Classic 350cc</td>\n",
       "      <td>119900.0</td>\n",
       "      <td>Delhi</td>\n",
       "      <td>11000.0</td>\n",
       "      <td>First Owner</td>\n",
       "      <td>4.0</td>\n",
       "      <td>350.0</td>\n",
       "      <td>Royal Enfield</td>\n",
       "    </tr>\n",
       "    <tr>\n",
       "      <th>0</th>\n",
       "      <td>TVS Star City Plus Dual Tone 110cc</td>\n",
       "      <td>35000.0</td>\n",
       "      <td>Ahmedabad</td>\n",
       "      <td>17654.0</td>\n",
       "      <td>First Owner</td>\n",
       "      <td>3.0</td>\n",
       "      <td>110.0</td>\n",
       "      <td>TVS</td>\n",
       "    </tr>\n",
       "  </tbody>\n",
       "</table>\n",
       "<p>7324 rows × 8 columns</p>\n",
       "</div>"
      ],
      "text/plain": [
       "                                 bike_name     price       city  kms_driven  \\\n",
       "9372              Bajaj Avenger Street 220   80000.0  Hyderabad      7127.0   \n",
       "9371                 Bajaj Dominar 400 ABS  139000.0  Hyderabad     21300.0   \n",
       "9370        Harley-Davidson Street 750 ABS  450000.0    Jodhpur      3430.0   \n",
       "9369                   Bajaj Avenger 220cc   35000.0  Bangalore     60000.0   \n",
       "9362             Hero Hunk Rear Disc 150cc   25000.0      Delhi     48587.0   \n",
       "...                                    ...       ...        ...         ...   \n",
       "4     Yamaha FZ S V 2.0 150cc-Ltd. Edition   80000.0  Bangalore     10000.0   \n",
       "3                     TVS Apache RTR 180cc   65000.0  Bangalore     16329.0   \n",
       "2                     Triumph Daytona 675R  600000.0      Delhi       110.0   \n",
       "1              Royal Enfield Classic 350cc  119900.0      Delhi     11000.0   \n",
       "0       TVS Star City Plus Dual Tone 110cc   35000.0  Ahmedabad     17654.0   \n",
       "\n",
       "            owner  age  power            brand  \n",
       "9372  First Owner  5.0  220.0            Bajaj  \n",
       "9371  First Owner  4.0  400.0            Bajaj  \n",
       "9370  First Owner  4.0  750.0  Harley-Davidson  \n",
       "9369  First Owner  9.0  220.0            Bajaj  \n",
       "9362  First Owner  8.0  150.0             Hero  \n",
       "...           ...  ...    ...              ...  \n",
       "4     First Owner  3.0  150.0           Yamaha  \n",
       "3     First Owner  4.0  180.0              TVS  \n",
       "2     First Owner  8.0  675.0          Triumph  \n",
       "1     First Owner  4.0  350.0    Royal Enfield  \n",
       "0     First Owner  3.0  110.0              TVS  \n",
       "\n",
       "[7324 rows x 8 columns]"
      ]
     },
     "execution_count": 29,
     "metadata": {},
     "output_type": "execute_result"
    }
   ],
   "source": [
    "#Sort with index in descending order.\n",
    "df.sort_index(ascending=False)"
   ]
  },
  {
   "cell_type": "code",
   "execution_count": 30,
   "metadata": {},
   "outputs": [
    {
     "data": {
      "application/vnd.microsoft.datawrangler.viewer.v0+json": {
       "columns": [
        {
         "name": "index",
         "rawType": "int64",
         "type": "integer"
        },
        {
         "name": "bike_name",
         "rawType": "object",
         "type": "string"
        },
        {
         "name": "city",
         "rawType": "object",
         "type": "string"
        },
        {
         "name": "owner",
         "rawType": "object",
         "type": "string"
        },
        {
         "name": "brand",
         "rawType": "object",
         "type": "string"
        }
       ],
       "conversionMethod": "pd.DataFrame",
       "ref": "6a272f1c-5b30-4212-8e14-80226f5f0262",
       "rows": [
        [
         "0",
         "TVS Star City Plus Dual Tone 110cc",
         "Ahmedabad",
         "First Owner",
         "TVS"
        ],
        [
         "1",
         "Royal Enfield Classic 350cc",
         "Delhi",
         "First Owner",
         "Royal Enfield"
        ],
        [
         "2",
         "Triumph Daytona 675R",
         "Delhi",
         "First Owner",
         "Triumph"
        ],
        [
         "3",
         "TVS Apache RTR 180cc",
         "Bangalore",
         "First Owner",
         "TVS"
        ],
        [
         "4",
         "Yamaha FZ S V 2.0 150cc-Ltd. Edition",
         "Bangalore",
         "First Owner",
         "Yamaha"
        ],
        [
         "5",
         "Yamaha FZs 150cc",
         "Delhi",
         "First Owner",
         "Yamaha"
        ],
        [
         "6",
         "Honda CB Hornet 160R  ABS DLX",
         "Delhi",
         "First Owner",
         "Honda"
        ],
        [
         "7",
         "Hero Splendor Plus Self Alloy 100cc",
         "Delhi",
         "First Owner",
         "Hero"
        ],
        [
         "8",
         "Royal Enfield Thunderbird X 350cc",
         "Bangalore",
         "First Owner",
         "Royal Enfield"
        ],
        [
         "9",
         "Royal Enfield Classic Desert Storm 500cc",
         "Delhi",
         "Second Owner",
         "Royal Enfield"
        ],
        [
         "10",
         "Yamaha YZF-R15 2.0 150cc",
         "Bangalore",
         "First Owner",
         "Yamaha"
        ],
        [
         "11",
         "Yamaha FZ25 250cc",
         "Bangalore",
         "First Owner",
         "Yamaha"
        ],
        [
         "12",
         "Bajaj Pulsar NS200",
         "Bangalore",
         "First Owner",
         "Bajaj"
        ],
        [
         "13",
         "Bajaj Discover 100M",
         "Delhi",
         "First Owner",
         "Bajaj"
        ],
        [
         "14",
         "Bajaj Discover 125M",
         "Delhi",
         "First Owner",
         "Bajaj"
        ],
        [
         "15",
         "Bajaj Pulsar NS200 ABS",
         "Bangalore",
         "First Owner",
         "Bajaj"
        ],
        [
         "16",
         "Bajaj Pulsar RS200 ABS",
         "Bangalore",
         "First Owner",
         "Bajaj"
        ],
        [
         "17",
         "Suzuki Gixxer SF 150cc",
         "Mumbai",
         "First Owner",
         "Suzuki"
        ],
        [
         "18",
         "Benelli 302R 300CC",
         "Mumbai",
         "Second Owner",
         "Benelli"
        ],
        [
         "22",
         "Hero Splendor iSmart Plus IBS 110cc",
         "Delhi",
         "First Owner",
         "Hero"
        ],
        [
         "23",
         "Royal Enfield Classic Chrome 500cc",
         "Kalyan",
         "First Owner",
         "Royal Enfield"
        ],
        [
         "24",
         "Yamaha FZ V 2.0 150cc",
         "Delhi",
         "First Owner",
         "Yamaha"
        ],
        [
         "26",
         "Hero Super Splendor 125cc",
         "Ahmedabad",
         "First Owner",
         "Hero"
        ],
        [
         "27",
         "Honda CBF Stunner 125cc",
         "Faridabad",
         "Second Owner",
         "Honda"
        ],
        [
         "28",
         "Bajaj Pulsar 150cc",
         "Bangalore",
         "First Owner",
         "Bajaj"
        ],
        [
         "29",
         "Honda X-Blade 160CC ABS",
         "Mettur",
         "First Owner",
         "Honda"
        ],
        [
         "30",
         "Bajaj Pulsar NS200",
         "Hyderabad",
         "First Owner",
         "Bajaj"
        ],
        [
         "31",
         "Yamaha YZF-R15 2.0 150cc",
         "Kaithal",
         "Second Owner",
         "Yamaha"
        ],
        [
         "32",
         "Bajaj Avenger 220cc",
         "Gurgaon",
         "First Owner",
         "Bajaj"
        ],
        [
         "33",
         "KTM RC 390cc",
         "Pune",
         "First Owner",
         "KTM"
        ],
        [
         "34",
         "Honda CB Unicorn 150cc",
         "Noida",
         "First Owner",
         "Honda"
        ],
        [
         "35",
         "KTM Duke 200cc",
         "Nashik",
         "Second Owner",
         "KTM"
        ],
        [
         "36",
         "Royal Enfield Classic 350cc",
         "Kochi",
         "First Owner",
         "Royal Enfield"
        ],
        [
         "37",
         "Honda CBR 150R 150cc",
         "Allahabad",
         "First Owner",
         "Honda"
        ],
        [
         "38",
         "Royal Enfield Thunderbird X 500cc",
         "Samastipur",
         "First Owner",
         "Royal Enfield"
        ],
        [
         "39",
         "KTM RC 200cc ABS",
         "Bangalore",
         "First Owner",
         "KTM"
        ],
        [
         "40",
         "Royal Enfield Thunderbird 350cc",
         "Nadiad",
         "First Owner",
         "Royal Enfield"
        ],
        [
         "41",
         "Bajaj Avenger 220cc",
         "Hyderabad",
         "First Owner",
         "Bajaj"
        ],
        [
         "42",
         "Royal Enfield Bullet Electra 350cc",
         "Lucknow",
         "First Owner",
         "Royal Enfield"
        ],
        [
         "43",
         "Bajaj Avenger Street 220 ABS",
         "Bangalore",
         "First Owner",
         "Bajaj"
        ],
        [
         "44",
         "Royal Enfield Classic 350cc",
         "Delhi",
         "First Owner",
         "Royal Enfield"
        ],
        [
         "45",
         "Bajaj Pulsar NS200",
         "Delhi",
         "First Owner",
         "Bajaj"
        ],
        [
         "46",
         "Royal Enfield Thunderbird 350cc",
         "Noida",
         "First Owner",
         "Royal Enfield"
        ],
        [
         "47",
         "Mahindra Centuro NXT 110cc",
         "Jaipur",
         "First Owner",
         "Mahindra"
        ],
        [
         "48",
         "Hero Hunk 150cc",
         "Mumbai",
         "First Owner",
         "Hero"
        ],
        [
         "49",
         "Suzuki Gixxer SF Fi 150cc SP ABS",
         "Delhi",
         "First Owner",
         "Suzuki"
        ],
        [
         "50",
         "Yamaha FZ 150cc",
         "Karnal",
         "First Owner",
         "Yamaha"
        ],
        [
         "51",
         "Royal Enfield‎ Bullet 350cc",
         "Delhi",
         "First Owner",
         "Royal Enfield"
        ],
        [
         "52",
         "TVS Apache RTR 160cc",
         "Mumbai",
         "First Owner",
         "TVS"
        ],
        [
         "53",
         "Honda CB Shine 125cc",
         "Gorakhpur",
         "Second Owner",
         "Honda"
        ]
       ],
       "shape": {
        "columns": 4,
        "rows": 7324
       }
      },
      "text/html": [
       "<div>\n",
       "<style scoped>\n",
       "    .dataframe tbody tr th:only-of-type {\n",
       "        vertical-align: middle;\n",
       "    }\n",
       "\n",
       "    .dataframe tbody tr th {\n",
       "        vertical-align: top;\n",
       "    }\n",
       "\n",
       "    .dataframe thead th {\n",
       "        text-align: right;\n",
       "    }\n",
       "</style>\n",
       "<table border=\"1\" class=\"dataframe\">\n",
       "  <thead>\n",
       "    <tr style=\"text-align: right;\">\n",
       "      <th></th>\n",
       "      <th>bike_name</th>\n",
       "      <th>city</th>\n",
       "      <th>owner</th>\n",
       "      <th>brand</th>\n",
       "    </tr>\n",
       "  </thead>\n",
       "  <tbody>\n",
       "    <tr>\n",
       "      <th>0</th>\n",
       "      <td>TVS Star City Plus Dual Tone 110cc</td>\n",
       "      <td>Ahmedabad</td>\n",
       "      <td>First Owner</td>\n",
       "      <td>TVS</td>\n",
       "    </tr>\n",
       "    <tr>\n",
       "      <th>1</th>\n",
       "      <td>Royal Enfield Classic 350cc</td>\n",
       "      <td>Delhi</td>\n",
       "      <td>First Owner</td>\n",
       "      <td>Royal Enfield</td>\n",
       "    </tr>\n",
       "    <tr>\n",
       "      <th>2</th>\n",
       "      <td>Triumph Daytona 675R</td>\n",
       "      <td>Delhi</td>\n",
       "      <td>First Owner</td>\n",
       "      <td>Triumph</td>\n",
       "    </tr>\n",
       "    <tr>\n",
       "      <th>3</th>\n",
       "      <td>TVS Apache RTR 180cc</td>\n",
       "      <td>Bangalore</td>\n",
       "      <td>First Owner</td>\n",
       "      <td>TVS</td>\n",
       "    </tr>\n",
       "    <tr>\n",
       "      <th>4</th>\n",
       "      <td>Yamaha FZ S V 2.0 150cc-Ltd. Edition</td>\n",
       "      <td>Bangalore</td>\n",
       "      <td>First Owner</td>\n",
       "      <td>Yamaha</td>\n",
       "    </tr>\n",
       "    <tr>\n",
       "      <th>...</th>\n",
       "      <td>...</td>\n",
       "      <td>...</td>\n",
       "      <td>...</td>\n",
       "      <td>...</td>\n",
       "    </tr>\n",
       "    <tr>\n",
       "      <th>9362</th>\n",
       "      <td>Hero Hunk Rear Disc 150cc</td>\n",
       "      <td>Delhi</td>\n",
       "      <td>First Owner</td>\n",
       "      <td>Hero</td>\n",
       "    </tr>\n",
       "    <tr>\n",
       "      <th>9369</th>\n",
       "      <td>Bajaj Avenger 220cc</td>\n",
       "      <td>Bangalore</td>\n",
       "      <td>First Owner</td>\n",
       "      <td>Bajaj</td>\n",
       "    </tr>\n",
       "    <tr>\n",
       "      <th>9370</th>\n",
       "      <td>Harley-Davidson Street 750 ABS</td>\n",
       "      <td>Jodhpur</td>\n",
       "      <td>First Owner</td>\n",
       "      <td>Harley-Davidson</td>\n",
       "    </tr>\n",
       "    <tr>\n",
       "      <th>9371</th>\n",
       "      <td>Bajaj Dominar 400 ABS</td>\n",
       "      <td>Hyderabad</td>\n",
       "      <td>First Owner</td>\n",
       "      <td>Bajaj</td>\n",
       "    </tr>\n",
       "    <tr>\n",
       "      <th>9372</th>\n",
       "      <td>Bajaj Avenger Street 220</td>\n",
       "      <td>Hyderabad</td>\n",
       "      <td>First Owner</td>\n",
       "      <td>Bajaj</td>\n",
       "    </tr>\n",
       "  </tbody>\n",
       "</table>\n",
       "<p>7324 rows × 4 columns</p>\n",
       "</div>"
      ],
      "text/plain": [
       "                                 bike_name       city        owner  \\\n",
       "0       TVS Star City Plus Dual Tone 110cc  Ahmedabad  First Owner   \n",
       "1              Royal Enfield Classic 350cc      Delhi  First Owner   \n",
       "2                     Triumph Daytona 675R      Delhi  First Owner   \n",
       "3                     TVS Apache RTR 180cc  Bangalore  First Owner   \n",
       "4     Yamaha FZ S V 2.0 150cc-Ltd. Edition  Bangalore  First Owner   \n",
       "...                                    ...        ...          ...   \n",
       "9362             Hero Hunk Rear Disc 150cc      Delhi  First Owner   \n",
       "9369                   Bajaj Avenger 220cc  Bangalore  First Owner   \n",
       "9370        Harley-Davidson Street 750 ABS    Jodhpur  First Owner   \n",
       "9371                 Bajaj Dominar 400 ABS  Hyderabad  First Owner   \n",
       "9372              Bajaj Avenger Street 220  Hyderabad  First Owner   \n",
       "\n",
       "                brand  \n",
       "0                 TVS  \n",
       "1       Royal Enfield  \n",
       "2             Triumph  \n",
       "3                 TVS  \n",
       "4              Yamaha  \n",
       "...               ...  \n",
       "9362             Hero  \n",
       "9369            Bajaj  \n",
       "9370  Harley-Davidson  \n",
       "9371            Bajaj  \n",
       "9372            Bajaj  \n",
       "\n",
       "[7324 rows x 4 columns]"
      ]
     },
     "execution_count": 30,
     "metadata": {},
     "output_type": "execute_result"
    }
   ],
   "source": [
    "#Selecting data types\n",
    "df.select_dtypes(include=object)"
   ]
  },
  {
   "cell_type": "code",
   "execution_count": 31,
   "metadata": {},
   "outputs": [
    {
     "data": {
      "application/vnd.microsoft.datawrangler.viewer.v0+json": {
       "columns": [
        {
         "name": "index",
         "rawType": "int64",
         "type": "integer"
        },
        {
         "name": "price",
         "rawType": "float64",
         "type": "float"
        },
        {
         "name": "kms_driven",
         "rawType": "float64",
         "type": "float"
        },
        {
         "name": "age",
         "rawType": "float64",
         "type": "float"
        },
        {
         "name": "power",
         "rawType": "float64",
         "type": "float"
        }
       ],
       "conversionMethod": "pd.DataFrame",
       "ref": "095fc6c2-b166-46e1-aa29-f043f6124224",
       "rows": [
        [
         "0",
         "35000.0",
         "17654.0",
         "3.0",
         "110.0"
        ],
        [
         "1",
         "119900.0",
         "11000.0",
         "4.0",
         "350.0"
        ],
        [
         "2",
         "600000.0",
         "110.0",
         "8.0",
         "675.0"
        ],
        [
         "3",
         "65000.0",
         "16329.0",
         "4.0",
         "180.0"
        ],
        [
         "4",
         "80000.0",
         "10000.0",
         "3.0",
         "150.0"
        ],
        [
         "5",
         "53499.0",
         "25000.0",
         "6.0",
         "150.0"
        ],
        [
         "6",
         "85000.0",
         "8200.0",
         "3.0",
         "160.0"
        ],
        [
         "7",
         "45000.0",
         "12645.0",
         "3.0",
         "100.0"
        ],
        [
         "8",
         "145000.0",
         "9190.0",
         "3.0",
         "350.0"
        ],
        [
         "9",
         "88000.0",
         "19000.0",
         "7.0",
         "500.0"
        ],
        [
         "10",
         "72000.0",
         "20000.0",
         "7.0",
         "150.0"
        ],
        [
         "11",
         "95000.0",
         "9665.0",
         "4.0",
         "250.0"
        ],
        [
         "12",
         "78000.0",
         "9900.0",
         "4.0",
         "200.0"
        ],
        [
         "13",
         "29499.0",
         "20000.0",
         "8.0",
         "100.0"
        ],
        [
         "14",
         "29900.0",
         "20000.0",
         "7.0",
         "125.0"
        ],
        [
         "15",
         "90000.0",
         "11574.0",
         "3.0",
         "200.0"
        ],
        [
         "16",
         "120000.0",
         "23000.0",
         "3.0",
         "200.0"
        ],
        [
         "17",
         "48000.0",
         "24725.0",
         "5.0",
         "150.0"
        ],
        [
         "18",
         "240000.0",
         "15025.0",
         "3.0",
         "302.0"
        ],
        [
         "22",
         "46500.0",
         "3500.0",
         "2.0",
         "110.0"
        ],
        [
         "23",
         "121700.0",
         "24520.0",
         "5.0",
         "500.0"
        ],
        [
         "24",
         "45000.0",
         "23000.0",
         "6.0",
         "150.0"
        ],
        [
         "26",
         "20000.0",
         "29305.0",
         "16.0",
         "125.0"
        ],
        [
         "27",
         "20800.0",
         "30500.0",
         "7.0",
         "125.0"
        ],
        [
         "28",
         "50000.0",
         "19000.0",
         "8.0",
         "150.0"
        ],
        [
         "29",
         "81200.0",
         "9100.0",
         "2.0",
         "160.0"
        ],
        [
         "30",
         "88000.0",
         "21914.0",
         "3.0",
         "200.0"
        ],
        [
         "31",
         "80000.0",
         "20000.0",
         "4.0",
         "150.0"
        ],
        [
         "32",
         "40900.0",
         "15000.0",
         "6.0",
         "220.0"
        ],
        [
         "33",
         "180000.0",
         "17700.0",
         "4.0",
         "390.0"
        ],
        [
         "34",
         "40000.0",
         "30000.0",
         "8.0",
         "150.0"
        ],
        [
         "35",
         "70000.0",
         "100000.0",
         "8.0",
         "200.0"
        ],
        [
         "36",
         "98800.0",
         "39000.0",
         "5.0",
         "350.0"
        ],
        [
         "37",
         "65000.0",
         "43000.0",
         "6.0",
         "150.0"
        ],
        [
         "38",
         "190500.0",
         "4550.0",
         "2.0",
         "500.0"
        ],
        [
         "39",
         "179000.0",
         "3400.0",
         "2.0",
         "200.0"
        ],
        [
         "40",
         "70000.0",
         "45000.0",
         "8.0",
         "350.0"
        ],
        [
         "41",
         "45000.0",
         "36100.0",
         "6.0",
         "220.0"
        ],
        [
         "42",
         "78000.0",
         "8500.0",
         "13.0",
         "350.0"
        ],
        [
         "43",
         "110000.0",
         "2550.0",
         "2.0",
         "220.0"
        ],
        [
         "44",
         "85000.0",
         "18000.0",
         "6.0",
         "350.0"
        ],
        [
         "45",
         "38000.0",
         "35000.0",
         "9.0",
         "200.0"
        ],
        [
         "46",
         "55346.0",
         "38000.0",
         "10.0",
         "350.0"
        ],
        [
         "47",
         "28000.0",
         "45000.0",
         "2.0",
         "110.0"
        ],
        [
         "48",
         "37000.0",
         "10800.0",
         "8.0",
         "150.0"
        ],
        [
         "49",
         "97000.0",
         "4400.0",
         "3.0",
         "150.0"
        ],
        [
         "50",
         "40000.0",
         "357000.0",
         "8.0",
         "150.0"
        ],
        [
         "51",
         "90000.0",
         "15300.0",
         "7.0",
         "350.0"
        ],
        [
         "52",
         "60000.0",
         "30000.0",
         "5.0",
         "160.0"
        ],
        [
         "53",
         "21900.0",
         "30000.0",
         "7.0",
         "125.0"
        ]
       ],
       "shape": {
        "columns": 4,
        "rows": 7324
       }
      },
      "text/html": [
       "<div>\n",
       "<style scoped>\n",
       "    .dataframe tbody tr th:only-of-type {\n",
       "        vertical-align: middle;\n",
       "    }\n",
       "\n",
       "    .dataframe tbody tr th {\n",
       "        vertical-align: top;\n",
       "    }\n",
       "\n",
       "    .dataframe thead th {\n",
       "        text-align: right;\n",
       "    }\n",
       "</style>\n",
       "<table border=\"1\" class=\"dataframe\">\n",
       "  <thead>\n",
       "    <tr style=\"text-align: right;\">\n",
       "      <th></th>\n",
       "      <th>price</th>\n",
       "      <th>kms_driven</th>\n",
       "      <th>age</th>\n",
       "      <th>power</th>\n",
       "    </tr>\n",
       "  </thead>\n",
       "  <tbody>\n",
       "    <tr>\n",
       "      <th>0</th>\n",
       "      <td>35000.0</td>\n",
       "      <td>17654.0</td>\n",
       "      <td>3.0</td>\n",
       "      <td>110.0</td>\n",
       "    </tr>\n",
       "    <tr>\n",
       "      <th>1</th>\n",
       "      <td>119900.0</td>\n",
       "      <td>11000.0</td>\n",
       "      <td>4.0</td>\n",
       "      <td>350.0</td>\n",
       "    </tr>\n",
       "    <tr>\n",
       "      <th>2</th>\n",
       "      <td>600000.0</td>\n",
       "      <td>110.0</td>\n",
       "      <td>8.0</td>\n",
       "      <td>675.0</td>\n",
       "    </tr>\n",
       "    <tr>\n",
       "      <th>3</th>\n",
       "      <td>65000.0</td>\n",
       "      <td>16329.0</td>\n",
       "      <td>4.0</td>\n",
       "      <td>180.0</td>\n",
       "    </tr>\n",
       "    <tr>\n",
       "      <th>4</th>\n",
       "      <td>80000.0</td>\n",
       "      <td>10000.0</td>\n",
       "      <td>3.0</td>\n",
       "      <td>150.0</td>\n",
       "    </tr>\n",
       "    <tr>\n",
       "      <th>...</th>\n",
       "      <td>...</td>\n",
       "      <td>...</td>\n",
       "      <td>...</td>\n",
       "      <td>...</td>\n",
       "    </tr>\n",
       "    <tr>\n",
       "      <th>9362</th>\n",
       "      <td>25000.0</td>\n",
       "      <td>48587.0</td>\n",
       "      <td>8.0</td>\n",
       "      <td>150.0</td>\n",
       "    </tr>\n",
       "    <tr>\n",
       "      <th>9369</th>\n",
       "      <td>35000.0</td>\n",
       "      <td>60000.0</td>\n",
       "      <td>9.0</td>\n",
       "      <td>220.0</td>\n",
       "    </tr>\n",
       "    <tr>\n",
       "      <th>9370</th>\n",
       "      <td>450000.0</td>\n",
       "      <td>3430.0</td>\n",
       "      <td>4.0</td>\n",
       "      <td>750.0</td>\n",
       "    </tr>\n",
       "    <tr>\n",
       "      <th>9371</th>\n",
       "      <td>139000.0</td>\n",
       "      <td>21300.0</td>\n",
       "      <td>4.0</td>\n",
       "      <td>400.0</td>\n",
       "    </tr>\n",
       "    <tr>\n",
       "      <th>9372</th>\n",
       "      <td>80000.0</td>\n",
       "      <td>7127.0</td>\n",
       "      <td>5.0</td>\n",
       "      <td>220.0</td>\n",
       "    </tr>\n",
       "  </tbody>\n",
       "</table>\n",
       "<p>7324 rows × 4 columns</p>\n",
       "</div>"
      ],
      "text/plain": [
       "         price  kms_driven  age  power\n",
       "0      35000.0     17654.0  3.0  110.0\n",
       "1     119900.0     11000.0  4.0  350.0\n",
       "2     600000.0       110.0  8.0  675.0\n",
       "3      65000.0     16329.0  4.0  180.0\n",
       "4      80000.0     10000.0  3.0  150.0\n",
       "...        ...         ...  ...    ...\n",
       "9362   25000.0     48587.0  8.0  150.0\n",
       "9369   35000.0     60000.0  9.0  220.0\n",
       "9370  450000.0      3430.0  4.0  750.0\n",
       "9371  139000.0     21300.0  4.0  400.0\n",
       "9372   80000.0      7127.0  5.0  220.0\n",
       "\n",
       "[7324 rows x 4 columns]"
      ]
     },
     "execution_count": 31,
     "metadata": {},
     "output_type": "execute_result"
    }
   ],
   "source": [
    "df.select_dtypes(exclude='O')"
   ]
  }
 ],
 "metadata": {
  "kernelspec": {
   "display_name": "base",
   "language": "python",
   "name": "python3"
  },
  "language_info": {
   "codemirror_mode": {
    "name": "ipython",
    "version": 3
   },
   "file_extension": ".py",
   "mimetype": "text/x-python",
   "name": "python",
   "nbconvert_exporter": "python",
   "pygments_lexer": "ipython3",
   "version": "3.12.4"
  }
 },
 "nbformat": 4,
 "nbformat_minor": 2
}
